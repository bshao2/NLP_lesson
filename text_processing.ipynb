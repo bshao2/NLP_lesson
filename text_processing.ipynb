{
 "cells": [
  {
   "cell_type": "markdown",
   "metadata": {},
   "source": [
    "# Text Processing\n",
    "\n",
    "## Capturing Text Data\n",
    "\n",
    "### Plain Text"
   ]
  },
  {
   "cell_type": "code",
   "execution_count": 1,
   "metadata": {},
   "outputs": [
    {
     "name": "stdout",
     "output_type": "stream",
     "text": [
      "Hieroglyphic writing dates from c. 3000 BC, and is composed of hundreds of symbols. A hieroglyph can represent a word, a sound, or a silent determinative; and the same symbol can serve different purposes in different contexts. Hieroglyphs were a formal script, used on stone monuments and in tombs, that could be as detailed as individual works of art.\n",
      "\n"
     ]
    }
   ],
   "source": [
    "import os\n",
    "\n",
    "# Read in a plain text file\n",
    "with open(os.path.join(\"data\", \"hieroglyph.txt\"), \"r\") as f:\n",
    "    text = f.read()\n",
    "    print(text)"
   ]
  },
  {
   "cell_type": "markdown",
   "metadata": {},
   "source": [
    "### Tabular Data"
   ]
  },
  {
   "cell_type": "code",
   "execution_count": 2,
   "metadata": {
    "scrolled": true
   },
   "outputs": [
    {
     "data": {
      "text/html": [
       "<div>\n",
       "<style scoped>\n",
       "    .dataframe tbody tr th:only-of-type {\n",
       "        vertical-align: middle;\n",
       "    }\n",
       "\n",
       "    .dataframe tbody tr th {\n",
       "        vertical-align: top;\n",
       "    }\n",
       "\n",
       "    .dataframe thead th {\n",
       "        text-align: right;\n",
       "    }\n",
       "</style>\n",
       "<table border=\"1\" class=\"dataframe\">\n",
       "  <thead>\n",
       "    <tr style=\"text-align: right;\">\n",
       "      <th></th>\n",
       "      <th>publisher</th>\n",
       "      <th>title</th>\n",
       "    </tr>\n",
       "  </thead>\n",
       "  <tbody>\n",
       "    <tr>\n",
       "      <th>0</th>\n",
       "      <td>Livemint</td>\n",
       "      <td>fed's charles plosser sees high bar for change...</td>\n",
       "    </tr>\n",
       "    <tr>\n",
       "      <th>1</th>\n",
       "      <td>IFA Magazine</td>\n",
       "      <td>us open: stocks fall after fed official hints ...</td>\n",
       "    </tr>\n",
       "    <tr>\n",
       "      <th>2</th>\n",
       "      <td>IFA Magazine</td>\n",
       "      <td>fed risks falling 'behind the curve', charles ...</td>\n",
       "    </tr>\n",
       "    <tr>\n",
       "      <th>3</th>\n",
       "      <td>Moneynews</td>\n",
       "      <td>fed's plosser: nasty weather has curbed job gr...</td>\n",
       "    </tr>\n",
       "    <tr>\n",
       "      <th>4</th>\n",
       "      <td>NASDAQ</td>\n",
       "      <td>plosser: fed may have to accelerate tapering pace</td>\n",
       "    </tr>\n",
       "  </tbody>\n",
       "</table>\n",
       "</div>"
      ],
      "text/plain": [
       "      publisher                                              title\n",
       "0      Livemint  fed's charles plosser sees high bar for change...\n",
       "1  IFA Magazine  us open: stocks fall after fed official hints ...\n",
       "2  IFA Magazine  fed risks falling 'behind the curve', charles ...\n",
       "3     Moneynews  fed's plosser: nasty weather has curbed job gr...\n",
       "4        NASDAQ  plosser: fed may have to accelerate tapering pace"
      ]
     },
     "execution_count": 2,
     "metadata": {},
     "output_type": "execute_result"
    }
   ],
   "source": [
    "import pandas as pd\n",
    "\n",
    "# Extract text column from a dataframe\n",
    "df = pd.read_csv(os.path.join(\"data\", \"news.csv\"))\n",
    "df.head()[['publisher', 'title']]\n",
    "\n",
    "# Convert text column to lowercase\n",
    "df['title'] = df['title'].str.lower()\n",
    "df.head()[['publisher', 'title']]"
   ]
  },
  {
   "cell_type": "markdown",
   "metadata": {},
   "source": [
    "### Online Resource"
   ]
  },
  {
   "cell_type": "code",
   "execution_count": 3,
   "metadata": {
    "scrolled": true
   },
   "outputs": [
    {
     "name": "stdout",
     "output_type": "stream",
     "text": [
      "{\n",
      "    \"success\": {\n",
      "        \"total\": 1\n",
      "    },\n",
      "    \"contents\": {\n",
      "        \"quotes\": [\n",
      "            {\n",
      "                \"quote\": \"Many of life's failures are experienced by people who did not realize how close they were to success when they gave up.\",\n",
      "                \"length\": \"119\",\n",
      "                \"author\": \"Thomas Edison\",\n",
      "                \"tags\": [\n",
      "                    \"inspire\",\n",
      "                    \"success\"\n",
      "                ],\n",
      "                \"category\": \"inspire\",\n",
      "                \"language\": \"en\",\n",
      "                \"date\": \"2020-12-06\",\n",
      "                \"permalink\": \"https://theysaidso.com/quote/thomas-edison-many-of-lifes-failures-are-experienced-by-people-who-did-not-reali\",\n",
      "                \"id\": \"qnI5_EBubjhw9eFkE2ZsrweF\",\n",
      "                \"background\": \"https://theysaidso.com/img/qod/qod-inspire.jpg\",\n",
      "                \"title\": \"Inspiring Quote of the day\"\n",
      "            }\n",
      "        ]\n",
      "    },\n",
      "    \"baseurl\": \"https://theysaidso.com\",\n",
      "    \"copyright\": {\n",
      "        \"year\": 2022,\n",
      "        \"url\": \"https://theysaidso.com\"\n",
      "    }\n",
      "}\n",
      "Many of life's failures are experienced by people who did not realize how close they were to success when they gave up. \n",
      "-- Thomas Edison\n"
     ]
    }
   ],
   "source": [
    "import requests\n",
    "import json\n",
    "\n",
    "# Fetch data from a REST API\n",
    "r = requests.get(\n",
    "    \"https://quotes.rest/qod.json\")\n",
    "res = r.json()\n",
    "print(json.dumps(res, indent=4))\n",
    "\n",
    "# Extract relevant object and field\n",
    "q = res[\"contents\"][\"quotes\"][0]\n",
    "print(q[\"quote\"], \"\\n--\", q[\"author\"])"
   ]
  },
  {
   "cell_type": "markdown",
   "metadata": {},
   "source": [
    "## Cleaning"
   ]
  },
  {
   "cell_type": "code",
   "execution_count": 1,
   "metadata": {
    "scrolled": true
   },
   "outputs": [
    {
     "name": "stdout",
     "output_type": "stream",
     "text": [
      "<html lang=\"en\" op=\"news\"><head><meta name=\"referrer\" content=\"origin\"><meta name=\"viewport\" content=\"width=device-width, initial-scale=1.0\"><link rel=\"stylesheet\" type=\"text/css\" href=\"news.css?XcgJLjpxGGSqwbwcYr6D\">\n",
      "        <link rel=\"shortcut icon\" href=\"favicon.ico\">\n",
      "          <link rel=\"alternate\" type=\"application/rss+xml\" title=\"RSS\" href=\"rss\">\n",
      "        <title>Hacker News</title></head><body><center><table id=\"hnmain\" border=\"0\" cellpadding=\"0\" cellspacing=\"0\" width=\"85%\" bgcolor=\"#f6f6ef\">\n",
      "        <tr><td bgcolor=\"#ff6600\"><table border=\"0\" cellpadding=\"0\" cellspacing=\"0\" width=\"100%\" style=\"padding:2px\"><tr><td style=\"width:18px;padding-right:4px\"><a href=\"https://news.ycombinator.com\"><img src=\"y18.gif\" width=\"18\" height=\"18\" style=\"border:1px white solid;\"></a></td>\n",
      "                  <td style=\"line-height:12pt; height:10px;\"><span class=\"pagetop\"><b class=\"hnname\"><a href=\"news\">Hacker News</a></b>\n",
      "              <a href=\"newest\">new</a> | <a href=\"front\">past</a> | <a href=\"newcomments\">comments</a> | <a href=\"ask\">ask</a> | <a href=\"show\">show</a> | <a href=\"jobs\">jobs</a> | <a href=\"submit\">submit</a>            </span></td><td style=\"text-align:right;padding-right:4px;\"><span class=\"pagetop\">\n",
      "                              <a href=\"login?goto=news\">login</a>\n",
      "                          </span></td>\n",
      "              </tr></table></td></tr>\n",
      "<tr id=\"pagespace\" title=\"\" style=\"height:10px\"></tr><tr><td><table border=\"0\" cellpadding=\"0\" cellspacing=\"0\" class=\"itemlist\">\n",
      "              <tr class='athing' id='25319539'>\n",
      "      <td align=\"right\" valign=\"top\" class=\"title\"><span class=\"rank\">1.</span></td>      <td valign=\"top\" class=\"votelinks\"><center><a id='up_25319539' href='vote?id=25319539&amp;how=up&amp;goto=news'><div class='votearrow' title='upvote'></div></a></center></td><td class=\"title\"><a href=\"https://digital.com/about/dec/\" class=\"storylink\">The Tragic Tale of DEC, the Computing Giant That Died Too Soon</a><span class=\"sitebit comhead\"> (<a href=\"from?site=digital.com\"><span class=\"sitestr\">digital.com</span></a>)</span></td></tr><tr><td colspan=\"2\"></td><td class=\"subtext\">\n",
      "        <span class=\"score\" id=\"score_25319539\">128 points</span> by <a href=\"user?id=mooreds\" class=\"hnuser\">mooreds</a> <span class=\"age\"><a href=\"item?id=25319539\">6 hours ago</a></span> <span id=\"unv_25319539\"></span> | <a href=\"hide?id=25319539&amp;goto=news\">hide</a> | <a href=\"item?id=25319539\">82&nbsp;comments</a>              </td></tr>\n",
      "      <tr class=\"spacer\" style=\"height:5px\"></tr>\n",
      "                <tr class='athing' id='25320103'>\n",
      "      <td align=\"right\" valign=\"top\" class=\"title\"><span class=\"rank\">2.</span></td>      <td valign=\"top\" class=\"votelinks\"><center><a id='up_25320103' href='vote?id=25320103&amp;how=up&amp;goto=news'><div class='votearrow' title='upvote'></div></a></center></td><td class=\"title\"><a href=\"https://mca-marines.org/wp-content/uploads/Microdosing.pdf\" class=\"storylink\">Microdosing: Improving performance enhancement in intelligence analysis (2019) [pdf]</a><span class=\"sitebit comhead\"> (<a href=\"from?site=mca-marines.org\"><span class=\"sitestr\">mca-marines.org</span></a>)</span></td></tr><tr><td colspan=\"2\"></td><td class=\"subtext\">\n",
      "        <span class=\"score\" id=\"score_25320103\">76 points</span> by <a href=\"user?id=SQL2219\" class=\"hnuser\">SQL2219</a> <span class=\"age\"><a href=\"item?id=25320103\">4 hours ago</a></span> <span id=\"unv_25320103\"></span> | <a href=\"hide?id=25320103&amp;goto=news\">hide</a> | <a href=\"item?id=25320103\">58&nbsp;comments</a>              </td></tr>\n",
      "      <tr class=\"spacer\" style=\"height:5px\"></tr>\n",
      "                <tr class='athing' id='25315524'>\n",
      "      <td align=\"right\" valign=\"top\" class=\"title\"><span class=\"rank\">3.</span></td>      <td valign=\"top\" class=\"votelinks\"><center><a id='up_25315524' href='vote?id=25315524&amp;how=up&amp;goto=news'><div class='votearrow' title='upvote'></div></a></center></td><td class=\"title\"><a href=\"https://www.gameuidatabase.com/\" class=\"storylink\">The Game UI Database, a comprehensive reference of game interface design</a><span class=\"sitebit comhead\"> (<a href=\"from?site=gameuidatabase.com\"><span class=\"sitestr\">gameuidatabase.com</span></a>)</span></td></tr><tr><td colspan=\"2\"></td><td class=\"subtext\">\n",
      "        <span class=\"score\" id=\"score_25315524\">492 points</span> by <a href=\"user?id=homarp\" class=\"hnuser\">homarp</a> <span class=\"age\"><a href=\"item?id=25315524\">13 hours ago</a></span> <span id=\"unv_25315524\"></span> | <a href=\"hide?id=25315524&amp;goto=news\">hide</a> | <a href=\"item?id=25315524\">80&nbsp;comments</a>              </td></tr>\n",
      "      <tr class=\"spacer\" style=\"height:5px\"></tr>\n",
      "                <tr class='athing' id='25320430'>\n",
      "      <td align=\"right\" valign=\"top\" class=\"title\"><span class=\"rank\">4.</span></td>      <td valign=\"top\" class=\"votelinks\"><center><a id='up_25320430' href='vote?id=25320430&amp;how=up&amp;goto=news'><div class='votearrow' title='upvote'></div></a></center></td><td class=\"title\"><a href=\"https://nicholas.carlini.com/writing/2020/instahide_disappointingly_wins_bell_labs_prize.html\" class=\"storylink\">InstaHide Disappointingly Wins Bell Labs Prize, 2nd Place</a><span class=\"sitebit comhead\"> (<a href=\"from?site=carlini.com\"><span class=\"sitestr\">carlini.com</span></a>)</span></td></tr><tr><td colspan=\"2\"></td><td class=\"subtext\">\n",
      "        <span class=\"score\" id=\"score_25320430\">156 points</span> by <a href=\"user?id=z3t111\" class=\"hnuser\">z3t111</a> <span class=\"age\"><a href=\"item?id=25320430\">3 hours ago</a></span> <span id=\"unv_25320430\"></span> | <a href=\"hide?id=25320430&amp;goto=news\">hide</a> | <a href=\"item?id=25320430\">10&nbsp;comments</a>              </td></tr>\n",
      "      <tr class=\"spacer\" style=\"height:5px\"></tr>\n",
      "                <tr class='athing' id='25319572'>\n",
      "      <td align=\"right\" valign=\"top\" class=\"title\"><span class=\"rank\">5.</span></td>      <td valign=\"top\" class=\"votelinks\"><center><a id='up_25319572' href='vote?id=25319572&amp;how=up&amp;goto=news'><div class='votearrow' title='upvote'></div></a></center></td><td class=\"title\"><a href=\"https://www.bbc.co.uk/news/science-environment-55201662\" class=\"storylink\">Asteroid capsule located in Australian desert</a><span class=\"sitebit comhead\"> (<a href=\"from?site=bbc.co.uk\"><span class=\"sitestr\">bbc.co.uk</span></a>)</span></td></tr><tr><td colspan=\"2\"></td><td class=\"subtext\">\n",
      "        <span class=\"score\" id=\"score_25319572\">67 points</span> by <a href=\"user?id=ColinWright\" class=\"hnuser\">ColinWright</a> <span class=\"age\"><a href=\"item?id=25319572\">6 hours ago</a></span> <span id=\"unv_25319572\"></span> | <a href=\"hide?id=25319572&amp;goto=news\">hide</a> | <a href=\"item?id=25319572\">24&nbsp;comments</a>              </td></tr>\n",
      "      <tr class=\"spacer\" style=\"height:5px\"></tr>\n",
      "                <tr class='athing' id='25301881'>\n",
      "      <td align=\"right\" valign=\"top\" class=\"title\"><span class=\"rank\">6.</span></td>      <td valign=\"top\" class=\"votelinks\"><center><a id='up_25301881' href='vote?id=25301881&amp;how=up&amp;goto=news'><div class='votearrow' title='upvote'></div></a></center></td><td class=\"title\"><a href=\"https://en.wikipedia.org/wiki/Cashew_of_Pirangi\" class=\"storylink\">Cashew of Pirangi</a><span class=\"sitebit comhead\"> (<a href=\"from?site=wikipedia.org\"><span class=\"sitestr\">wikipedia.org</span></a>)</span></td></tr><tr><td colspan=\"2\"></td><td class=\"subtext\">\n",
      "        <span class=\"score\" id=\"score_25301881\">129 points</span> by <a href=\"user?id=tcgv\" class=\"hnuser\">tcgv</a> <span class=\"age\"><a href=\"item?id=25301881\">9 hours ago</a></span> <span id=\"unv_25301881\"></span> | <a href=\"hide?id=25301881&amp;goto=news\">hide</a> | <a href=\"item?id=25301881\">22&nbsp;comments</a>              </td></tr>\n",
      "      <tr class=\"spacer\" style=\"height:5px\"></tr>\n",
      "                <tr class='athing' id='25312999'>\n",
      "      <td align=\"right\" valign=\"top\" class=\"title\"><span class=\"rank\">7.</span></td>      <td valign=\"top\" class=\"votelinks\"><center><a id='up_25312999' href='vote?id=25312999&amp;how=up&amp;goto=news'><div class='votearrow' title='upvote'></div></a></center></td><td class=\"title\"><a href=\"https://kaitai.io\" class=\"storylink\">Kaitai: Describe the structure of data, not how you read or write it</a><span class=\"sitebit comhead\"> (<a href=\"from?site=kaitai.io\"><span class=\"sitestr\">kaitai.io</span></a>)</span></td></tr><tr><td colspan=\"2\"></td><td class=\"subtext\">\n",
      "        <span class=\"score\" id=\"score_25312999\">202 points</span> by <a href=\"user?id=eterps\" class=\"hnuser\">eterps</a> <span class=\"age\"><a href=\"item?id=25312999\">12 hours ago</a></span> <span id=\"unv_25312999\"></span> | <a href=\"hide?id=25312999&amp;goto=news\">hide</a> | <a href=\"item?id=25312999\">46&nbsp;comments</a>              </td></tr>\n",
      "      <tr class=\"spacer\" style=\"height:5px\"></tr>\n",
      "                <tr class='athing' id='25316608'>\n",
      "      <td align=\"right\" valign=\"top\" class=\"title\"><span class=\"rank\">8.</span></td>      <td valign=\"top\" class=\"votelinks\"><center><a id='up_25316608' href='vote?id=25316608&amp;how=up&amp;goto=news'><div class='votearrow' title='upvote'></div></a></center></td><td class=\"title\"><a href=\"https://developer.r-project.org/blosxom.cgi/R-devel/NEWS/2020/12/04#n2020-12-04\" class=\"storylink\">R adds native pipe and lambda syntax</a><span class=\"sitebit comhead\"> (<a href=\"from?site=r-project.org\"><span class=\"sitestr\">r-project.org</span></a>)</span></td></tr><tr><td colspan=\"2\"></td><td class=\"subtext\">\n",
      "        <span class=\"score\" id=\"score_25316608\">218 points</span> by <a href=\"user?id=kkoncevicius\" class=\"hnuser\">kkoncevicius</a> <span class=\"age\"><a href=\"item?id=25316608\">12 hours ago</a></span> <span id=\"unv_25316608\"></span> | <a href=\"hide?id=25316608&amp;goto=news\">hide</a> | <a href=\"item?id=25316608\">119&nbsp;comments</a>              </td></tr>\n",
      "      <tr class=\"spacer\" style=\"height:5px\"></tr>\n",
      "                <tr class='athing' id='25320941'>\n",
      "      <td align=\"right\" valign=\"top\" class=\"title\"><span class=\"rank\">9.</span></td>      <td valign=\"top\" class=\"votelinks\"><center><a id='up_25320941' href='vote?id=25320941&amp;how=up&amp;goto=news'><div class='votearrow' title='upvote'></div></a></center></td><td class=\"title\"><a href=\"https://mtlynch.io/collect-debt/\" class=\"storylink\" rel=\"nofollow\">How I Collected a Debt from an Unscrupulous Merchant</a><span class=\"sitebit comhead\"> (<a href=\"from?site=mtlynch.io\"><span class=\"sitestr\">mtlynch.io</span></a>)</span></td></tr><tr><td colspan=\"2\"></td><td class=\"subtext\">\n",
      "        <span class=\"score\" id=\"score_25320941\">9 points</span> by <a href=\"user?id=notadog\" class=\"hnuser\">notadog</a> <span class=\"age\"><a href=\"item?id=25320941\">1 hour ago</a></span> <span id=\"unv_25320941\"></span> | <a href=\"hide?id=25320941&amp;goto=news\">hide</a> | <a href=\"item?id=25320941\">discuss</a>              </td></tr>\n",
      "      <tr class=\"spacer\" style=\"height:5px\"></tr>\n",
      "                <tr class='athing' id='25321053'>\n",
      "      <td align=\"right\" valign=\"top\" class=\"title\"><span class=\"rank\">10.</span></td>      <td valign=\"top\" class=\"votelinks\"><center><a id='up_25321053' href='vote?id=25321053&amp;how=up&amp;goto=news'><div class='votearrow' title='upvote'></div></a></center></td><td class=\"title\"><a href=\"https://sneak.berlin/20201204/on-trusting-macintosh-hardware/\" class=\"storylink\">Macs with T2, M1 chips cannot be restored to factory state without Apple</a><span class=\"sitebit comhead\"> (<a href=\"from?site=sneak.berlin\"><span class=\"sitestr\">sneak.berlin</span></a>)</span></td></tr><tr><td colspan=\"2\"></td><td class=\"subtext\">\n",
      "        <span class=\"score\" id=\"score_25321053\">49 points</span> by <a href=\"user?id=sharjeelsayed\" class=\"hnuser\">sharjeelsayed</a> <span class=\"age\"><a href=\"item?id=25321053\">1 hour ago</a></span> <span id=\"unv_25321053\"></span> | <a href=\"hide?id=25321053&amp;goto=news\">hide</a> | <a href=\"item?id=25321053\">25&nbsp;comments</a>              </td></tr>\n",
      "      <tr class=\"spacer\" style=\"height:5px\"></tr>\n",
      "                <tr class='athing' id='25312681'>\n",
      "      <td align=\"right\" valign=\"top\" class=\"title\"><span class=\"rank\">11.</span></td>      <td valign=\"top\" class=\"votelinks\"><center><a id='up_25312681' href='vote?id=25312681&amp;how=up&amp;goto=news'><div class='votearrow' title='upvote'></div></a></center></td><td class=\"title\"><a href=\"item?id=25312681\" class=\"storylink\">Ask HN: Learning about philosophy</a></td></tr><tr><td colspan=\"2\"></td><td class=\"subtext\">\n",
      "        <span class=\"score\" id=\"score_25312681\">185 points</span> by <a href=\"user?id=rupi\" class=\"hnuser\">rupi</a> <span class=\"age\"><a href=\"item?id=25312681\">11 hours ago</a></span> <span id=\"unv_25312681\"></span> | <a href=\"hide?id=25312681&amp;goto=news\">hide</a> | <a href=\"item?id=25312681\">209&nbsp;comments</a>              </td></tr>\n",
      "      <tr class=\"spacer\" style=\"height:5px\"></tr>\n",
      "                <tr class='athing' id='25315180'>\n",
      "      <td align=\"right\" valign=\"top\" class=\"title\"><span class=\"rank\">12.</span></td>      <td valign=\"top\" class=\"votelinks\"><center><a id='up_25315180' href='vote?id=25315180&amp;how=up&amp;goto=news'><div class='votearrow' title='upvote'></div></a></center></td><td class=\"title\"><a href=\"https://prolost.com/blog/edr\" class=\"storylink\">Apple’s “Extended Dynamic Range” Brings HDR to Non-HDR Displays</a><span class=\"sitebit comhead\"> (<a href=\"from?site=prolost.com\"><span class=\"sitestr\">prolost.com</span></a>)</span></td></tr><tr><td colspan=\"2\"></td><td class=\"subtext\">\n",
      "        <span class=\"score\" id=\"score_25315180\">299 points</span> by <a href=\"user?id=mattparcher\" class=\"hnuser\">mattparcher</a> <span class=\"age\"><a href=\"item?id=25315180\">14 hours ago</a></span> <span id=\"unv_25315180\"></span> | <a href=\"hide?id=25315180&amp;goto=news\">hide</a> | <a href=\"item?id=25315180\">188&nbsp;comments</a>              </td></tr>\n",
      "      <tr class=\"spacer\" style=\"height:5px\"></tr>\n",
      "                <tr class='athing' id='25316328'>\n",
      "      <td align=\"right\" valign=\"top\" class=\"title\"><span class=\"rank\">13.</span></td>      <td valign=\"top\" class=\"votelinks\"><center><a id='up_25316328' href='vote?id=25316328&amp;how=up&amp;goto=news'><div class='votearrow' title='upvote'></div></a></center></td><td class=\"title\"><a href=\"https://klimy.co/blog/benefits-of-walking\" class=\"storylink\">Benefits of Walking</a><span class=\"sitebit comhead\"> (<a href=\"from?site=klimy.co\"><span class=\"sitestr\">klimy.co</span></a>)</span></td></tr><tr><td colspan=\"2\"></td><td class=\"subtext\">\n",
      "        <span class=\"score\" id=\"score_25316328\">149 points</span> by <a href=\"user?id=KlimYadrintsev\" class=\"hnuser\">KlimYadrintsev</a> <span class=\"age\"><a href=\"item?id=25316328\">12 hours ago</a></span> <span id=\"unv_25316328\"></span> | <a href=\"hide?id=25316328&amp;goto=news\">hide</a> | <a href=\"item?id=25316328\">60&nbsp;comments</a>              </td></tr>\n",
      "      <tr class=\"spacer\" style=\"height:5px\"></tr>\n",
      "                <tr class='athing' id='25319482'>\n",
      "      <td align=\"right\" valign=\"top\" class=\"title\"><span class=\"rank\">14.</span></td>      <td valign=\"top\" class=\"votelinks\"><center><a id='up_25319482' href='vote?id=25319482&amp;how=up&amp;goto=news'><div class='votearrow' title='upvote'></div></a></center></td><td class=\"title\"><a href=\"https://www.devever.net/~hl/recompile\" class=\"storylink\">Modifying and running a binary by recompiling a reverse engineered disassembly</a><span class=\"sitebit comhead\"> (<a href=\"from?site=devever.net\"><span class=\"sitestr\">devever.net</span></a>)</span></td></tr><tr><td colspan=\"2\"></td><td class=\"subtext\">\n",
      "        <span class=\"score\" id=\"score_25319482\">35 points</span> by <a href=\"user?id=hlandau\" class=\"hnuser\">hlandau</a> <span class=\"age\"><a href=\"item?id=25319482\">6 hours ago</a></span> <span id=\"unv_25319482\"></span> | <a href=\"hide?id=25319482&amp;goto=news\">hide</a> | <a href=\"item?id=25319482\">3&nbsp;comments</a>              </td></tr>\n",
      "      <tr class=\"spacer\" style=\"height:5px\"></tr>\n",
      "                <tr class='athing' id='25320954'>\n",
      "      <td align=\"right\" valign=\"top\" class=\"title\"><span class=\"rank\">15.</span></td>      <td valign=\"top\" class=\"votelinks\"><center><a id='up_25320954' href='vote?id=25320954&amp;how=up&amp;goto=news'><div class='votearrow' title='upvote'></div></a></center></td><td class=\"title\"><a href=\"https://www.nytimes.com/2020/12/03/science/otters-oregon-alaska.html\" class=\"storylink\" rel=\"nofollow\">Archaeologists Could Help Bring Otters Back from the Dead</a><span class=\"sitebit comhead\"> (<a href=\"from?site=nytimes.com\"><span class=\"sitestr\">nytimes.com</span></a>)</span></td></tr><tr><td colspan=\"2\"></td><td class=\"subtext\">\n",
      "        <span class=\"score\" id=\"score_25320954\">5 points</span> by <a href=\"user?id=Thevet\" class=\"hnuser\">Thevet</a> <span class=\"age\"><a href=\"item?id=25320954\">1 hour ago</a></span> <span id=\"unv_25320954\"></span> | <a href=\"hide?id=25320954&amp;goto=news\">hide</a> | <a href=\"item?id=25320954\">discuss</a>              </td></tr>\n",
      "      <tr class=\"spacer\" style=\"height:5px\"></tr>\n",
      "                <tr class='athing' id='25313311'>\n",
      "      <td align=\"right\" valign=\"top\" class=\"title\"><span class=\"rank\">16.</span></td>      <td valign=\"top\" class=\"votelinks\"><center><a id='up_25313311' href='vote?id=25313311&amp;how=up&amp;goto=news'><div class='votearrow' title='upvote'></div></a></center></td><td class=\"title\"><a href=\"https://ane.github.io/2020/10/05/between-two-lisps.html\" class=\"storylink\">Between two Lisps</a><span class=\"sitebit comhead\"> (<a href=\"from?site=ane.github.io\"><span class=\"sitestr\">ane.github.io</span></a>)</span></td></tr><tr><td colspan=\"2\"></td><td class=\"subtext\">\n",
      "        <span class=\"score\" id=\"score_25313311\">85 points</span> by <a href=\"user?id=galfarragem\" class=\"hnuser\">galfarragem</a> <span class=\"age\"><a href=\"item?id=25313311\">9 hours ago</a></span> <span id=\"unv_25313311\"></span> | <a href=\"hide?id=25313311&amp;goto=news\">hide</a> | <a href=\"item?id=25313311\">41&nbsp;comments</a>              </td></tr>\n",
      "      <tr class=\"spacer\" style=\"height:5px\"></tr>\n",
      "                <tr class='athing' id='25318092'>\n",
      "      <td align=\"right\" valign=\"top\" class=\"title\"><span class=\"rank\">17.</span></td>      <td valign=\"top\" class=\"votelinks\"><center><a id='up_25318092' href='vote?id=25318092&amp;how=up&amp;goto=news'><div class='votearrow' title='upvote'></div></a></center></td><td class=\"title\"><a href=\"https://docs.google.com/document/d/1iNSQIyNpVGHeak6isbP6AHdHD50gs8MNXF1GCf08efg/pub\" class=\"storylink\">Scroll Back: The Theory and Practice of Cameras in Side-Scrollers</a><span class=\"sitebit comhead\"> (<a href=\"from?site=docs.google.com\"><span class=\"sitestr\">docs.google.com</span></a>)</span></td></tr><tr><td colspan=\"2\"></td><td class=\"subtext\">\n",
      "        <span class=\"score\" id=\"score_25318092\">74 points</span> by <a href=\"user?id=ibobev\" class=\"hnuser\">ibobev</a> <span class=\"age\"><a href=\"item?id=25318092\">9 hours ago</a></span> <span id=\"unv_25318092\"></span> | <a href=\"hide?id=25318092&amp;goto=news\">hide</a> | <a href=\"item?id=25318092\">4&nbsp;comments</a>              </td></tr>\n",
      "      <tr class=\"spacer\" style=\"height:5px\"></tr>\n",
      "                <tr class='athing' id='25319392'>\n",
      "      <td align=\"right\" valign=\"top\" class=\"title\"><span class=\"rank\">18.</span></td>      <td valign=\"top\" class=\"votelinks\"><center><a id='up_25319392' href='vote?id=25319392&amp;how=up&amp;goto=news'><div class='votearrow' title='upvote'></div></a></center></td><td class=\"title\"><a href=\"https://jack.wrenn.fyi/blog/brown-location-surveillance\" class=\"storylink\">How does Brown University know where you are?</a><span class=\"sitebit comhead\"> (<a href=\"from?site=wrenn.fyi\"><span class=\"sitestr\">wrenn.fyi</span></a>)</span></td></tr><tr><td colspan=\"2\"></td><td class=\"subtext\">\n",
      "        <span class=\"score\" id=\"score_25319392\">159 points</span> by <a href=\"user?id=jswrenn\" class=\"hnuser\">jswrenn</a> <span class=\"age\"><a href=\"item?id=25319392\">6 hours ago</a></span> <span id=\"unv_25319392\"></span> | <a href=\"hide?id=25319392&amp;goto=news\">hide</a> | <a href=\"item?id=25319392\">111&nbsp;comments</a>              </td></tr>\n",
      "      <tr class=\"spacer\" style=\"height:5px\"></tr>\n",
      "                <tr class='athing' id='25319096'>\n",
      "      <td align=\"right\" valign=\"top\" class=\"title\"><span class=\"rank\">19.</span></td>      <td valign=\"top\" class=\"votelinks\"><center><a id='up_25319096' href='vote?id=25319096&amp;how=up&amp;goto=news'><div class='votearrow' title='upvote'></div></a></center></td><td class=\"title\"><a href=\"https://mortoray.com/2020/12/06/high-throughput-game-message-server-with-python-websockets/\" class=\"storylink\">High-Throughput Game Message Server with Python WebSockets</a><span class=\"sitebit comhead\"> (<a href=\"from?site=mortoray.com\"><span class=\"sitestr\">mortoray.com</span></a>)</span></td></tr><tr><td colspan=\"2\"></td><td class=\"subtext\">\n",
      "        <span class=\"score\" id=\"score_25319096\">38 points</span> by <a href=\"user?id=ingve\" class=\"hnuser\">ingve</a> <span class=\"age\"><a href=\"item?id=25319096\">7 hours ago</a></span> <span id=\"unv_25319096\"></span> | <a href=\"hide?id=25319096&amp;goto=news\">hide</a> | <a href=\"item?id=25319096\">28&nbsp;comments</a>              </td></tr>\n",
      "      <tr class=\"spacer\" style=\"height:5px\"></tr>\n",
      "                <tr class='athing' id='25315667'>\n",
      "      <td align=\"right\" valign=\"top\" class=\"title\"><span class=\"rank\">20.</span></td>      <td valign=\"top\" class=\"votelinks\"><center><a id='up_25315667' href='vote?id=25315667&amp;how=up&amp;goto=news'><div class='votearrow' title='upvote'></div></a></center></td><td class=\"title\"><a href=\"https://dandanua.github.io/posts/major-flaws-of-human-thinking/\" class=\"storylink\">Major Flaws of Human Thinking</a><span class=\"sitebit comhead\"> (<a href=\"from?site=dandanua.github.io\"><span class=\"sitestr\">dandanua.github.io</span></a>)</span></td></tr><tr><td colspan=\"2\"></td><td class=\"subtext\">\n",
      "        <span class=\"score\" id=\"score_25315667\">164 points</span> by <a href=\"user?id=dandanua\" class=\"hnuser\">dandanua</a> <span class=\"age\"><a href=\"item?id=25315667\">13 hours ago</a></span> <span id=\"unv_25315667\"></span> | <a href=\"hide?id=25315667&amp;goto=news\">hide</a> | <a href=\"item?id=25315667\">86&nbsp;comments</a>              </td></tr>\n",
      "      <tr class=\"spacer\" style=\"height:5px\"></tr>\n",
      "                <tr class='athing' id='25315736'>\n",
      "      <td align=\"right\" valign=\"top\" class=\"title\"><span class=\"rank\">21.</span></td>      <td valign=\"top\" class=\"votelinks\"><center><a id='up_25315736' href='vote?id=25315736&amp;how=up&amp;goto=news'><div class='votearrow' title='upvote'></div></a></center></td><td class=\"title\"><a href=\"https://hackerpublicradio.org/\" class=\"storylink\">Hacker Public Radio</a><span class=\"sitebit comhead\"> (<a href=\"from?site=hackerpublicradio.org\"><span class=\"sitestr\">hackerpublicradio.org</span></a>)</span></td></tr><tr><td colspan=\"2\"></td><td class=\"subtext\">\n",
      "        <span class=\"score\" id=\"score_25315736\">133 points</span> by <a href=\"user?id=EuAndreh\" class=\"hnuser\">EuAndreh</a> <span class=\"age\"><a href=\"item?id=25315736\">13 hours ago</a></span> <span id=\"unv_25315736\"></span> | <a href=\"hide?id=25315736&amp;goto=news\">hide</a> | <a href=\"item?id=25315736\">12&nbsp;comments</a>              </td></tr>\n",
      "      <tr class=\"spacer\" style=\"height:5px\"></tr>\n",
      "                <tr class='athing' id='25320536'>\n",
      "      <td align=\"right\" valign=\"top\" class=\"title\"><span class=\"rank\">22.</span></td>      <td valign=\"top\" class=\"votelinks\"><center><a id='up_25320536' href='vote?id=25320536&amp;how=up&amp;goto=news'><div class='votearrow' title='upvote'></div></a></center></td><td class=\"title\"><a href=\"https://divinations.substack.com/p/linkedins-alternate-universe##\" class=\"storylink\">LinkedIn is the fucking worst</a><span class=\"sitebit comhead\"> (<a href=\"from?site=divinations.substack.com\"><span class=\"sitestr\">divinations.substack.com</span></a>)</span></td></tr><tr><td colspan=\"2\"></td><td class=\"subtext\">\n",
      "        <span class=\"score\" id=\"score_25320536\">13 points</span> by <a href=\"user?id=dshipper\" class=\"hnuser\">dshipper</a> <span class=\"age\"><a href=\"item?id=25320536\">3 hours ago</a></span> <span id=\"unv_25320536\"></span> | <a href=\"hide?id=25320536&amp;goto=news\">hide</a> | <a href=\"item?id=25320536\">1&nbsp;comment</a>              </td></tr>\n",
      "      <tr class=\"spacer\" style=\"height:5px\"></tr>\n",
      "                <tr class='athing' id='25299593'>\n",
      "      <td align=\"right\" valign=\"top\" class=\"title\"><span class=\"rank\">23.</span></td>      <td valign=\"top\" class=\"votelinks\"><center><a id='up_25299593' href='vote?id=25299593&amp;how=up&amp;goto=news'><div class='votearrow' title='upvote'></div></a></center></td><td class=\"title\"><a href=\"https://theamericanscholar.org/satirist-to-the-galaxy/\" class=\"storylink\" rel=\"nofollow\">Satirist to the Galaxy</a><span class=\"sitebit comhead\"> (<a href=\"from?site=theamericanscholar.org\"><span class=\"sitestr\">theamericanscholar.org</span></a>)</span></td></tr><tr><td colspan=\"2\"></td><td class=\"subtext\">\n",
      "        <span class=\"score\" id=\"score_25299593\">3 points</span> by <a href=\"user?id=samclemens\" class=\"hnuser\">samclemens</a> <span class=\"age\"><a href=\"item?id=25299593\">1 hour ago</a></span> <span id=\"unv_25299593\"></span> | <a href=\"hide?id=25299593&amp;goto=news\">hide</a> | <a href=\"item?id=25299593\">discuss</a>              </td></tr>\n",
      "      <tr class=\"spacer\" style=\"height:5px\"></tr>\n",
      "                <tr class='athing' id='25320776'>\n",
      "      <td align=\"right\" valign=\"top\" class=\"title\"><span class=\"rank\">24.</span></td>      <td valign=\"top\" class=\"votelinks\"><center><a id='up_25320776' href='vote?id=25320776&amp;how=up&amp;goto=news'><div class='votearrow' title='upvote'></div></a></center></td><td class=\"title\"><a href=\"https://www.bbc.com/future/article/20201202-deep-sea-mining-tracks-on-the-ocean-floor\" class=\"storylink\" rel=\"nofollow\">The unseen man-made 'tracks' on the deep ocean floor</a><span class=\"sitebit comhead\"> (<a href=\"from?site=bbc.com\"><span class=\"sitestr\">bbc.com</span></a>)</span></td></tr><tr><td colspan=\"2\"></td><td class=\"subtext\">\n",
      "        <span class=\"score\" id=\"score_25320776\">5 points</span> by <a href=\"user?id=akeck\" class=\"hnuser\">akeck</a> <span class=\"age\"><a href=\"item?id=25320776\">2 hours ago</a></span> <span id=\"unv_25320776\"></span> | <a href=\"hide?id=25320776&amp;goto=news\">hide</a> | <a href=\"item?id=25320776\">discuss</a>              </td></tr>\n",
      "      <tr class=\"spacer\" style=\"height:5px\"></tr>\n",
      "                <tr class='athing' id='25319835'>\n",
      "      <td align=\"right\" valign=\"top\" class=\"title\"><span class=\"rank\">25.</span></td>      <td valign=\"top\" class=\"votelinks\"><center><a id='up_25319835' href='vote?id=25319835&amp;how=up&amp;goto=news'><div class='votearrow' title='upvote'></div></a></center></td><td class=\"title\"><a href=\"https://www.nytimes.com/2016/07/25/business/vw-wvu-diesel-volkswagen-west-virginia.html\" class=\"storylink\">Researchers Who Exposed VW Gain Little Reward from Success</a><span class=\"sitebit comhead\"> (<a href=\"from?site=nytimes.com\"><span class=\"sitestr\">nytimes.com</span></a>)</span></td></tr><tr><td colspan=\"2\"></td><td class=\"subtext\">\n",
      "        <span class=\"score\" id=\"score_25319835\">96 points</span> by <a href=\"user?id=lifeisstillgood\" class=\"hnuser\">lifeisstillgood</a> <span class=\"age\"><a href=\"item?id=25319835\">5 hours ago</a></span> <span id=\"unv_25319835\"></span> | <a href=\"hide?id=25319835&amp;goto=news\">hide</a> | <a href=\"item?id=25319835\">35&nbsp;comments</a>              </td></tr>\n",
      "      <tr class=\"spacer\" style=\"height:5px\"></tr>\n",
      "                <tr class='athing' id='25313385'>\n",
      "      <td align=\"right\" valign=\"top\" class=\"title\"><span class=\"rank\">26.</span></td>      <td valign=\"top\" class=\"votelinks\"><center><a id='up_25313385' href='vote?id=25313385&amp;how=up&amp;goto=news'><div class='votearrow' title='upvote'></div></a></center></td><td class=\"title\"><a href=\"https://www.seas.upenn.edu/~zives/03f/cis550/codd.pdf\" class=\"storylink\">A Relational Model of Data for Large Shared Data Banks (1970) [pdf]</a><span class=\"sitebit comhead\"> (<a href=\"from?site=upenn.edu\"><span class=\"sitestr\">upenn.edu</span></a>)</span></td></tr><tr><td colspan=\"2\"></td><td class=\"subtext\">\n",
      "        <span class=\"score\" id=\"score_25313385\">27 points</span> by <a href=\"user?id=taffer\" class=\"hnuser\">taffer</a> <span class=\"age\"><a href=\"item?id=25313385\">7 hours ago</a></span> <span id=\"unv_25313385\"></span> | <a href=\"hide?id=25313385&amp;goto=news\">hide</a> | <a href=\"item?id=25313385\">6&nbsp;comments</a>              </td></tr>\n",
      "      <tr class=\"spacer\" style=\"height:5px\"></tr>\n",
      "                <tr class='athing' id='25312833'>\n",
      "      <td align=\"right\" valign=\"top\" class=\"title\"><span class=\"rank\">27.</span></td>      <td valign=\"top\" class=\"votelinks\"><center><a id='up_25312833' href='vote?id=25312833&amp;how=up&amp;goto=news'><div class='votearrow' title='upvote'></div></a></center></td><td class=\"title\"><a href=\"http://madebyevan.com/diskitude/\" class=\"storylink\">Diskitude: Disk usage visualization tool in 10 KB</a><span class=\"sitebit comhead\"> (<a href=\"from?site=madebyevan.com\"><span class=\"sitestr\">madebyevan.com</span></a>)</span></td></tr><tr><td colspan=\"2\"></td><td class=\"subtext\">\n",
      "        <span class=\"score\" id=\"score_25312833\">72 points</span> by <a href=\"user?id=pmarin\" class=\"hnuser\">pmarin</a> <span class=\"age\"><a href=\"item?id=25312833\">12 hours ago</a></span> <span id=\"unv_25312833\"></span> | <a href=\"hide?id=25312833&amp;goto=news\">hide</a> | <a href=\"item?id=25312833\">46&nbsp;comments</a>              </td></tr>\n",
      "      <tr class=\"spacer\" style=\"height:5px\"></tr>\n",
      "                <tr class='athing' id='25318005'>\n",
      "      <td align=\"right\" valign=\"top\" class=\"title\"><span class=\"rank\">28.</span></td>      <td valign=\"top\" class=\"votelinks\"><center><a id='up_25318005' href='vote?id=25318005&amp;how=up&amp;goto=news'><div class='votearrow' title='upvote'></div></a></center></td><td class=\"title\"><a href=\"https://www.theverge.com/22150313/how-microsoft-crushed-slack-salesforce-acquisition\" class=\"storylink\">How Microsoft crushed Slack</a><span class=\"sitebit comhead\"> (<a href=\"from?site=theverge.com\"><span class=\"sitestr\">theverge.com</span></a>)</span></td></tr><tr><td colspan=\"2\"></td><td class=\"subtext\">\n",
      "        <span class=\"score\" id=\"score_25318005\">48 points</span> by <a href=\"user?id=atarian\" class=\"hnuser\">atarian</a> <span class=\"age\"><a href=\"item?id=25318005\">7 hours ago</a></span> <span id=\"unv_25318005\"></span> | <a href=\"hide?id=25318005&amp;goto=news\">hide</a> | <a href=\"item?id=25318005\">70&nbsp;comments</a>              </td></tr>\n",
      "      <tr class=\"spacer\" style=\"height:5px\"></tr>\n",
      "                <tr class='athing' id='25313010'>\n",
      "      <td align=\"right\" valign=\"top\" class=\"title\"><span class=\"rank\">29.</span></td>      <td valign=\"top\" class=\"votelinks\"><center><a id='up_25313010' href='vote?id=25313010&amp;how=up&amp;goto=news'><div class='votearrow' title='upvote'></div></a></center></td><td class=\"title\"><a href=\"http://radicle.xyz#/beta\" class=\"storylink\">Radicle: A peer-to-peer alternative to GitHub</a><span class=\"sitebit comhead\"> (<a href=\"from?site=radicle.xyz\"><span class=\"sitestr\">radicle.xyz</span></a>)</span></td></tr><tr><td colspan=\"2\"></td><td class=\"subtext\">\n",
      "        <span class=\"score\" id=\"score_25313010\">727 points</span> by <a href=\"user?id=dweberz\" class=\"hnuser\">dweberz</a> <span class=\"age\"><a href=\"item?id=25313010\">20 hours ago</a></span> <span id=\"unv_25313010\"></span> | <a href=\"hide?id=25313010&amp;goto=news\">hide</a> | <a href=\"item?id=25313010\">220&nbsp;comments</a>              </td></tr>\n",
      "      <tr class=\"spacer\" style=\"height:5px\"></tr>\n",
      "                <tr class='athing' id='25316058'>\n",
      "      <td align=\"right\" valign=\"top\" class=\"title\"><span class=\"rank\">30.</span></td>      <td></td><td class=\"title\"><a href=\"https://jobs.lever.co/replit/\" class=\"storylink\" rel=\"nofollow\">Repl.it (YC W18) Is Hiring</a><span class=\"sitebit comhead\"> (<a href=\"from?site=lever.co\"><span class=\"sitestr\">lever.co</span></a>)</span></td></tr><tr><td colspan=\"2\"></td><td class=\"subtext\">\n",
      "        <span class=\"age\"><a href=\"item?id=25316058\">12 hours ago</a></span> | <a href=\"hide?id=25316058&amp;goto=news\">hide</a>      </td></tr>\n",
      "      <tr class=\"spacer\" style=\"height:5px\"></tr>\n",
      "            <tr class=\"morespace\" style=\"height:10px\"></tr><tr><td colspan=\"2\"></td><td class=\"title\"><a href=\"news?p=2\" class=\"morelink\" rel=\"next\">More</a></td></tr>\n",
      "  </table>\n",
      "</td></tr>\n",
      "<tr><td><img src=\"s.gif\" height=\"10\" width=\"0\"><table width=\"100%\" cellspacing=\"0\" cellpadding=\"1\"><tr><td bgcolor=\"#ff6600\"></td></tr></table><br><center><span class=\"yclinks\"><a href=\"newsguidelines.html\">Guidelines</a>\n",
      "        | <a href=\"newsfaq.html\">FAQ</a>\n",
      "        | <a href=\"lists\">Lists</a>\n",
      "        | <a href=\"https://github.com/HackerNews/API\">API</a>\n",
      "        | <a href=\"security.html\">Security</a>\n",
      "        | <a href=\"http://www.ycombinator.com/legal/\">Legal</a>\n",
      "        | <a href=\"http://www.ycombinator.com/apply/\">Apply to YC</a>\n",
      "        | <a href=\"mailto:hn@ycombinator.com\">Contact</a></span><br><br><form method=\"get\" action=\"//hn.algolia.com/\">Search:\n",
      "          <input type=\"text\" name=\"q\" value=\"\" size=\"17\" autocorrect=\"off\" spellcheck=\"false\" autocapitalize=\"off\" autocomplete=\"false\"></form>\n",
      "            </center></td></tr>\n",
      "      </table></center></body><script type='text/javascript' src='hn.js?XcgJLjpxGGSqwbwcYr6D'></script></html>\n",
      "\n"
     ]
    }
   ],
   "source": [
    "import requests\n",
    "\n",
    "# Fetch a web page\n",
    "r = requests.get(\"https://news.ycombinator.com\")\n",
    "print(r.text)"
   ]
  },
  {
   "cell_type": "code",
   "execution_count": 2,
   "metadata": {},
   "outputs": [
    {
     "name": "stdout",
     "output_type": "stream",
     "text": [
      "\n",
      "        \n",
      "          \n",
      "        Hacker News\n",
      "        \n",
      "                  Hacker News\n",
      "              new | past | comments | ask | show | jobs | submit            \n",
      "                              login\n",
      "                          \n",
      "              \n",
      "\n",
      "              \n",
      "      1.      The Tragic Tale of DEC, the Computing Giant That Died Too Soon (digital.com)\n",
      "        128 points by mooreds 6 hours ago  | hide | 82&nbsp;comments              \n",
      "      \n",
      "                \n",
      "      2.      Microdosing: Improving performance enhancement in intelligence analysis (2019) [pdf] (mca-marines.org)\n",
      "        76 points by SQL2219 4 hours ago  | hide | 58&nbsp;comments              \n",
      "      \n",
      "                \n",
      "      3.      The Game UI Database, a comprehensive reference of game interface design (gameuidatabase.com)\n",
      "        492 points by homarp 13 hours ago  | hide | 80&nbsp;comments              \n",
      "      \n",
      "                \n",
      "      4.      InstaHide Disappointingly Wins Bell Labs Prize, 2nd Place (carlini.com)\n",
      "        156 points by z3t111 3 hours ago  | hide | 10&nbsp;comments              \n",
      "      \n",
      "                \n",
      "      5.      Asteroid capsule located in Australian desert (bbc.co.uk)\n",
      "        67 points by ColinWright 6 hours ago  | hide | 24&nbsp;comments              \n",
      "      \n",
      "                \n",
      "      6.      Cashew of Pirangi (wikipedia.org)\n",
      "        129 points by tcgv 9 hours ago  | hide | 22&nbsp;comments              \n",
      "      \n",
      "                \n",
      "      7.      Kaitai: Describe the structure of data, not how you read or write it (kaitai.io)\n",
      "        202 points by eterps 12 hours ago  | hide | 46&nbsp;comments              \n",
      "      \n",
      "                \n",
      "      8.      R adds native pipe and lambda syntax (r-project.org)\n",
      "        218 points by kkoncevicius 12 hours ago  | hide | 119&nbsp;comments              \n",
      "      \n",
      "                \n",
      "      9.      How I Collected a Debt from an Unscrupulous Merchant (mtlynch.io)\n",
      "        9 points by notadog 1 hour ago  | hide | discuss              \n",
      "      \n",
      "                \n",
      "      10.      Macs with T2, M1 chips cannot be restored to factory state without Apple (sneak.berlin)\n",
      "        49 points by sharjeelsayed 1 hour ago  | hide | 25&nbsp;comments              \n",
      "      \n",
      "                \n",
      "      11.      Ask HN: Learning about philosophy\n",
      "        185 points by rupi 11 hours ago  | hide | 209&nbsp;comments              \n",
      "      \n",
      "                \n",
      "      12.      Apple’s “Extended Dynamic Range” Brings HDR to Non-HDR Displays (prolost.com)\n",
      "        299 points by mattparcher 14 hours ago  | hide | 188&nbsp;comments              \n",
      "      \n",
      "                \n",
      "      13.      Benefits of Walking (klimy.co)\n",
      "        149 points by KlimYadrintsev 12 hours ago  | hide | 60&nbsp;comments              \n",
      "      \n",
      "                \n",
      "      14.      Modifying and running a binary by recompiling a reverse engineered disassembly (devever.net)\n",
      "        35 points by hlandau 6 hours ago  | hide | 3&nbsp;comments              \n",
      "      \n",
      "                \n",
      "      15.      Archaeologists Could Help Bring Otters Back from the Dead (nytimes.com)\n",
      "        5 points by Thevet 1 hour ago  | hide | discuss              \n",
      "      \n",
      "                \n",
      "      16.      Between two Lisps (ane.github.io)\n",
      "        85 points by galfarragem 9 hours ago  | hide | 41&nbsp;comments              \n",
      "      \n",
      "                \n",
      "      17.      Scroll Back: The Theory and Practice of Cameras in Side-Scrollers (docs.google.com)\n",
      "        74 points by ibobev 9 hours ago  | hide | 4&nbsp;comments              \n",
      "      \n",
      "                \n",
      "      18.      How does Brown University know where you are? (wrenn.fyi)\n",
      "        159 points by jswrenn 6 hours ago  | hide | 111&nbsp;comments              \n",
      "      \n",
      "                \n",
      "      19.      High-Throughput Game Message Server with Python WebSockets (mortoray.com)\n",
      "        38 points by ingve 7 hours ago  | hide | 28&nbsp;comments              \n",
      "      \n",
      "                \n",
      "      20.      Major Flaws of Human Thinking (dandanua.github.io)\n",
      "        164 points by dandanua 13 hours ago  | hide | 86&nbsp;comments              \n",
      "      \n",
      "                \n",
      "      21.      Hacker Public Radio (hackerpublicradio.org)\n",
      "        133 points by EuAndreh 13 hours ago  | hide | 12&nbsp;comments              \n",
      "      \n",
      "                \n",
      "      22.      LinkedIn is the fucking worst (divinations.substack.com)\n",
      "        13 points by dshipper 3 hours ago  | hide | 1&nbsp;comment              \n",
      "      \n",
      "                \n",
      "      23.      Satirist to the Galaxy (theamericanscholar.org)\n",
      "        3 points by samclemens 1 hour ago  | hide | discuss              \n",
      "      \n",
      "                \n",
      "      24.      The unseen man-made 'tracks' on the deep ocean floor (bbc.com)\n",
      "        5 points by akeck 2 hours ago  | hide | discuss              \n",
      "      \n",
      "                \n",
      "      25.      Researchers Who Exposed VW Gain Little Reward from Success (nytimes.com)\n",
      "        96 points by lifeisstillgood 5 hours ago  | hide | 35&nbsp;comments              \n",
      "      \n",
      "                \n",
      "      26.      A Relational Model of Data for Large Shared Data Banks (1970) [pdf] (upenn.edu)\n",
      "        27 points by taffer 7 hours ago  | hide | 6&nbsp;comments              \n",
      "      \n",
      "                \n",
      "      27.      Diskitude: Disk usage visualization tool in 10 KB (madebyevan.com)\n",
      "        72 points by pmarin 12 hours ago  | hide | 46&nbsp;comments              \n",
      "      \n",
      "                \n",
      "      28.      How Microsoft crushed Slack (theverge.com)\n",
      "        48 points by atarian 7 hours ago  | hide | 70&nbsp;comments              \n",
      "      \n",
      "                \n",
      "      29.      Radicle: A peer-to-peer alternative to GitHub (radicle.xyz)\n",
      "        727 points by dweberz 20 hours ago  | hide | 220&nbsp;comments              \n",
      "      \n",
      "                \n",
      "      30.      Repl.it (YC W18) Is Hiring (lever.co)\n",
      "        12 hours ago | hide      \n",
      "      \n",
      "            More\n",
      "  \n",
      "\n",
      "Guidelines\n",
      "        | FAQ\n",
      "        | Lists\n",
      "        | API\n",
      "        | Security\n",
      "        | Legal\n",
      "        | Apply to YC\n",
      "        | ContactSearch:\n",
      "          \n",
      "            \n",
      "      \n",
      "\n"
     ]
    }
   ],
   "source": [
    "import re\n",
    "\n",
    "# Remove HTML tags using RegEx\n",
    "pattern = re.compile(r'<.*?>')  # tags look like <...>\n",
    "print(pattern.sub('', r.text))  # replace them with blank"
   ]
  },
  {
   "cell_type": "code",
   "execution_count": 3,
   "metadata": {},
   "outputs": [
    {
     "name": "stdout",
     "output_type": "stream",
     "text": [
      "\n",
      "        \n",
      "          \n",
      "        Hacker News\n",
      "        \n",
      "                  Hacker News\n",
      "              new | past | comments | ask | show | jobs | submit            \n",
      "                              login\n",
      "                          \n",
      "              \n",
      "\n",
      "              \n",
      "      1.      The Tragic Tale of DEC, the Computing Giant That Died Too Soon (digital.com)\n",
      "        128 points by mooreds 6 hours ago  | hide | 82 comments              \n",
      "      \n",
      "                \n",
      "      2.      Microdosing: Improving performance enhancement in intelligence analysis (2019) [pdf] (mca-marines.org)\n",
      "        76 points by SQL2219 4 hours ago  | hide | 58 comments              \n",
      "      \n",
      "                \n",
      "      3.      The Game UI Database, a comprehensive reference of game interface design (gameuidatabase.com)\n",
      "        492 points by homarp 13 hours ago  | hide | 80 comments              \n",
      "      \n",
      "                \n",
      "      4.      InstaHide Disappointingly Wins Bell Labs Prize, 2nd Place (carlini.com)\n",
      "        156 points by z3t111 3 hours ago  | hide | 10 comments              \n",
      "      \n",
      "                \n",
      "      5.      Asteroid capsule located in Australian desert (bbc.co.uk)\n",
      "        67 points by ColinWright 6 hours ago  | hide | 24 comments              \n",
      "      \n",
      "                \n",
      "      6.      Cashew of Pirangi (wikipedia.org)\n",
      "        129 points by tcgv 9 hours ago  | hide | 22 comments              \n",
      "      \n",
      "                \n",
      "      7.      Kaitai: Describe the structure of data, not how you read or write it (kaitai.io)\n",
      "        202 points by eterps 12 hours ago  | hide | 46 comments              \n",
      "      \n",
      "                \n",
      "      8.      R adds native pipe and lambda syntax (r-project.org)\n",
      "        218 points by kkoncevicius 12 hours ago  | hide | 119 comments              \n",
      "      \n",
      "                \n",
      "      9.      How I Collected a Debt from an Unscrupulous Merchant (mtlynch.io)\n",
      "        9 points by notadog 1 hour ago  | hide | discuss              \n",
      "      \n",
      "                \n",
      "      10.      Macs with T2, M1 chips cannot be restored to factory state without Apple (sneak.berlin)\n",
      "        49 points by sharjeelsayed 1 hour ago  | hide | 25 comments              \n",
      "      \n",
      "                \n",
      "      11.      Ask HN: Learning about philosophy\n",
      "        185 points by rupi 11 hours ago  | hide | 209 comments              \n",
      "      \n",
      "                \n",
      "      12.      Apple’s “Extended Dynamic Range” Brings HDR to Non-HDR Displays (prolost.com)\n",
      "        299 points by mattparcher 14 hours ago  | hide | 188 comments              \n",
      "      \n",
      "                \n",
      "      13.      Benefits of Walking (klimy.co)\n",
      "        149 points by KlimYadrintsev 12 hours ago  | hide | 60 comments              \n",
      "      \n",
      "                \n",
      "      14.      Modifying and running a binary by recompiling a reverse engineered disassembly (devever.net)\n",
      "        35 points by hlandau 6 hours ago  | hide | 3 comments              \n",
      "      \n",
      "                \n",
      "      15.      Archaeologists Could Help Bring Otters Back from the Dead (nytimes.com)\n",
      "        5 points by Thevet 1 hour ago  | hide | discuss              \n",
      "      \n",
      "                \n",
      "      16.      Between two Lisps (ane.github.io)\n",
      "        85 points by galfarragem 9 hours ago  | hide | 41 comments              \n",
      "      \n",
      "                \n",
      "      17.      Scroll Back: The Theory and Practice of Cameras in Side-Scrollers (docs.google.com)\n",
      "        74 points by ibobev 9 hours ago  | hide | 4 comments              \n",
      "      \n",
      "                \n",
      "      18.      How does Brown University know where you are? (wrenn.fyi)\n",
      "        159 points by jswrenn 6 hours ago  | hide | 111 comments              \n",
      "      \n",
      "                \n",
      "      19.      High-Throughput Game Message Server with Python WebSockets (mortoray.com)\n",
      "        38 points by ingve 7 hours ago  | hide | 28 comments              \n",
      "      \n",
      "                \n",
      "      20.      Major Flaws of Human Thinking (dandanua.github.io)\n",
      "        164 points by dandanua 13 hours ago  | hide | 86 comments              \n",
      "      \n",
      "                \n",
      "      21.      Hacker Public Radio (hackerpublicradio.org)\n",
      "        133 points by EuAndreh 13 hours ago  | hide | 12 comments              \n",
      "      \n",
      "                \n",
      "      22.      LinkedIn is the fucking worst (divinations.substack.com)\n",
      "        13 points by dshipper 3 hours ago  | hide | 1 comment              \n",
      "      \n",
      "                \n",
      "      23.      Satirist to the Galaxy (theamericanscholar.org)\n",
      "        3 points by samclemens 1 hour ago  | hide | discuss              \n",
      "      \n",
      "                \n",
      "      24.      The unseen man-made 'tracks' on the deep ocean floor (bbc.com)\n",
      "        5 points by akeck 2 hours ago  | hide | discuss              \n",
      "      \n",
      "                \n",
      "      25.      Researchers Who Exposed VW Gain Little Reward from Success (nytimes.com)\n",
      "        96 points by lifeisstillgood 5 hours ago  | hide | 35 comments              \n",
      "      \n",
      "                \n",
      "      26.      A Relational Model of Data for Large Shared Data Banks (1970) [pdf] (upenn.edu)\n",
      "        27 points by taffer 7 hours ago  | hide | 6 comments              \n",
      "      \n",
      "                \n",
      "      27.      Diskitude: Disk usage visualization tool in 10 KB (madebyevan.com)\n",
      "        72 points by pmarin 12 hours ago  | hide | 46 comments              \n",
      "      \n",
      "                \n",
      "      28.      How Microsoft crushed Slack (theverge.com)\n",
      "        48 points by atarian 7 hours ago  | hide | 70 comments              \n",
      "      \n",
      "                \n",
      "      29.      Radicle: A peer-to-peer alternative to GitHub (radicle.xyz)\n",
      "        727 points by dweberz 20 hours ago  | hide | 220 comments              \n",
      "      \n",
      "                \n",
      "      30.      Repl.it (YC W18) Is Hiring (lever.co)\n",
      "        12 hours ago | hide      \n",
      "      \n",
      "            More\n",
      "  \n",
      "\n",
      "Guidelines\n",
      "        | FAQ\n",
      "        | Lists\n",
      "        | API\n",
      "        | Security\n",
      "        | Legal\n",
      "        | Apply to YC\n",
      "        | ContactSearch:\n",
      "          \n",
      "            \n",
      "      \n",
      "\n"
     ]
    }
   ],
   "source": [
    "from bs4 import BeautifulSoup\n",
    "\n",
    "# Remove HTML tags using Beautiful Soup library\n",
    "soup = BeautifulSoup(r.text, \"html5lib\")\n",
    "print(soup.get_text())"
   ]
  },
  {
   "cell_type": "code",
   "execution_count": 7,
   "metadata": {
    "scrolled": true
   },
   "outputs": [
    {
     "data": {
      "text/plain": [
       "<tr class=\"athing\" id=\"25319539\">\n",
       "      <td align=\"right\" class=\"title\" valign=\"top\"><span class=\"rank\">1.</span></td>      <td class=\"votelinks\" valign=\"top\"><center><a href=\"vote?id=25319539&amp;how=up&amp;goto=news\" id=\"up_25319539\"><div class=\"votearrow\" title=\"upvote\"></div></a></center></td><td class=\"title\"><a class=\"storylink\" href=\"https://digital.com/about/dec/\">The Tragic Tale of DEC, the Computing Giant That Died Too Soon</a><span class=\"sitebit comhead\"> (<a href=\"from?site=digital.com\"><span class=\"sitestr\">digital.com</span></a>)</span></td></tr>"
      ]
     },
     "execution_count": 7,
     "metadata": {},
     "output_type": "execute_result"
    }
   ],
   "source": [
    "# Find all articles\n",
    "summaries = soup.find_all(\"tr\", class_=\"athing\")\n",
    "summaries[0]"
   ]
  },
  {
   "cell_type": "code",
   "execution_count": 8,
   "metadata": {},
   "outputs": [
    {
     "data": {
      "text/plain": [
       "'The Tragic Tale of DEC, the Computing Giant That Died Too Soon'"
      ]
     },
     "execution_count": 8,
     "metadata": {},
     "output_type": "execute_result"
    }
   ],
   "source": [
    "# Extract title\n",
    "summaries[0].find(\"a\", class_=\"storylink\").get_text().strip()"
   ]
  },
  {
   "cell_type": "code",
   "execution_count": 10,
   "metadata": {},
   "outputs": [
    {
     "name": "stdout",
     "output_type": "stream",
     "text": [
      "The Tragic Tale of DEC, the Computing Giant That Died Too Soon\n",
      "Microdosing: Improving performance enhancement in intelligence analysis (2019) [pdf]\n",
      "The Game UI Database, a comprehensive reference of game interface design\n",
      "InstaHide Disappointingly Wins Bell Labs Prize, 2nd Place\n",
      "Asteroid capsule located in Australian desert\n",
      "Cashew of Pirangi\n",
      "Kaitai: Describe the structure of data, not how you read or write it\n",
      "R adds native pipe and lambda syntax\n",
      "How I Collected a Debt from an Unscrupulous Merchant\n",
      "Macs with T2, M1 chips cannot be restored to factory state without Apple\n",
      "Ask HN: Learning about philosophy\n",
      "Apple’s “Extended Dynamic Range” Brings HDR to Non-HDR Displays\n",
      "Benefits of Walking\n",
      "Modifying and running a binary by recompiling a reverse engineered disassembly\n",
      "Archaeologists Could Help Bring Otters Back from the Dead\n",
      "Between two Lisps\n",
      "Scroll Back: The Theory and Practice of Cameras in Side-Scrollers\n",
      "How does Brown University know where you are?\n",
      "High-Throughput Game Message Server with Python WebSockets\n",
      "Major Flaws of Human Thinking\n",
      "Hacker Public Radio\n",
      "LinkedIn is the fucking worst\n",
      "Satirist to the Galaxy\n",
      "The unseen man-made 'tracks' on the deep ocean floor\n",
      "Researchers Who Exposed VW Gain Little Reward from Success\n",
      "A Relational Model of Data for Large Shared Data Banks (1970) [pdf]\n",
      "Diskitude: Disk usage visualization tool in 10 KB\n",
      "How Microsoft crushed Slack\n",
      "Radicle: A peer-to-peer alternative to GitHub\n",
      "Repl.it (YC W18) Is Hiring\n",
      "30 Article summaries found. Sample:\n"
     ]
    }
   ],
   "source": [
    "# Find all articles, extract titles\n",
    "articles = []\n",
    "summaries = soup.find_all(\"tr\", class_=\"athing\")\n",
    "for summary in summaries:\n",
    "    title = summary.find(\"a\", class_=\"storylink\").get_text().strip()\n",
    "    articles.append((title))\n",
    "    print(title)\n",
    "\n",
    "print(len(articles), \"Article summaries found. Sample:\")\n",
    "#print(articles[0])"
   ]
  },
  {
   "cell_type": "markdown",
   "metadata": {
    "collapsed": true
   },
   "source": [
    "## Normalization"
   ]
  },
  {
   "cell_type": "markdown",
   "metadata": {},
   "source": [
    "### Case Normalization"
   ]
  },
  {
   "cell_type": "code",
   "execution_count": 11,
   "metadata": {},
   "outputs": [
    {
     "name": "stdout",
     "output_type": "stream",
     "text": [
      "The first time you see The Second Renaissance it may look boring. Look at it at least twice and definitely watch part 2. It will change your view of the matrix. Are the human people the ones who started the war ? Is AI a bad thing ?\n"
     ]
    }
   ],
   "source": [
    "# Sample text\n",
    "text = \"The first time you see The Second Renaissance it may look boring. Look at it at least twice and definitely watch part 2. It will change your view of the matrix. Are the human people the ones who started the war ? Is AI a bad thing ?\"\n",
    "print(text)"
   ]
  },
  {
   "cell_type": "code",
   "execution_count": 12,
   "metadata": {},
   "outputs": [
    {
     "name": "stdout",
     "output_type": "stream",
     "text": [
      "the first time you see the second renaissance it may look boring. look at it at least twice and definitely watch part 2. it will change your view of the matrix. are the human people the ones who started the war ? is ai a bad thing ?\n"
     ]
    }
   ],
   "source": [
    "# Convert to lowercase\n",
    "text = text.lower() \n",
    "print(text)"
   ]
  },
  {
   "cell_type": "markdown",
   "metadata": {},
   "source": [
    "### Punctuation Removal"
   ]
  },
  {
   "cell_type": "code",
   "execution_count": 13,
   "metadata": {},
   "outputs": [
    {
     "name": "stdout",
     "output_type": "stream",
     "text": [
      "the first time you see the second renaissance it may look boring  look at it at least twice and definitely watch part 2  it will change your view of the matrix  are the human people the ones who started the war   is ai a bad thing  \n"
     ]
    }
   ],
   "source": [
    "import re\n",
    "\n",
    "# Remove punctuation characters\n",
    "text = re.sub(r\"[^a-zA-Z0-9]\", \" \", text) \n",
    "print(text)"
   ]
  },
  {
   "cell_type": "markdown",
   "metadata": {},
   "source": [
    "## Tokenization"
   ]
  },
  {
   "cell_type": "code",
   "execution_count": 14,
   "metadata": {},
   "outputs": [
    {
     "name": "stdout",
     "output_type": "stream",
     "text": [
      "['the', 'first', 'time', 'you', 'see', 'the', 'second', 'renaissance', 'it', 'may', 'look', 'boring', 'look', 'at', 'it', 'at', 'least', 'twice', 'and', 'definitely', 'watch', 'part', '2', 'it', 'will', 'change', 'your', 'view', 'of', 'the', 'matrix', 'are', 'the', 'human', 'people', 'the', 'ones', 'who', 'started', 'the', 'war', 'is', 'ai', 'a', 'bad', 'thing']\n"
     ]
    }
   ],
   "source": [
    "# Split text into tokens (words)\n",
    "words = text.split()\n",
    "print(words)"
   ]
  },
  {
   "cell_type": "markdown",
   "metadata": {},
   "source": [
    "### NLTK: Natural Language ToolKit"
   ]
  },
  {
   "cell_type": "code",
   "execution_count": 15,
   "metadata": {},
   "outputs": [],
   "source": [
    "import os\n",
    "import nltk\n",
    "nltk.data.path.append(os.path.join(os.getcwd(), \"nltk_data\"))"
   ]
  },
  {
   "cell_type": "code",
   "execution_count": 16,
   "metadata": {},
   "outputs": [
    {
     "name": "stdout",
     "output_type": "stream",
     "text": [
      "Dr. Smith graduated from the University of Washington. He later started an analytics firm called Lux, which catered to enterprise customers.\n"
     ]
    }
   ],
   "source": [
    "# Another sample text\n",
    "text = \"Dr. Smith graduated from the University of Washington. He later started an analytics firm called Lux, which catered to enterprise customers.\"\n",
    "print(text)"
   ]
  },
  {
   "cell_type": "code",
   "execution_count": 17,
   "metadata": {},
   "outputs": [
    {
     "name": "stdout",
     "output_type": "stream",
     "text": [
      "['Dr.', 'Smith', 'graduated', 'from', 'the', 'University', 'of', 'Washington', '.', 'He', 'later', 'started', 'an', 'analytics', 'firm', 'called', 'Lux', ',', 'which', 'catered', 'to', 'enterprise', 'customers', '.']\n"
     ]
    }
   ],
   "source": [
    "from nltk.tokenize import word_tokenize\n",
    "\n",
    "# Split text into words using NLTK\n",
    "words = word_tokenize(text)\n",
    "print(words)"
   ]
  },
  {
   "cell_type": "code",
   "execution_count": 18,
   "metadata": {},
   "outputs": [
    {
     "name": "stdout",
     "output_type": "stream",
     "text": [
      "['Dr. Smith graduated from the University of Washington.', 'He later started an analytics firm called Lux, which catered to enterprise customers.']\n"
     ]
    }
   ],
   "source": [
    "from nltk.tokenize import sent_tokenize\n",
    "\n",
    "# Split text into sentences\n",
    "sentences = sent_tokenize(text)\n",
    "print(sentences)"
   ]
  },
  {
   "cell_type": "code",
   "execution_count": 19,
   "metadata": {},
   "outputs": [
    {
     "name": "stdout",
     "output_type": "stream",
     "text": [
      "['i', 'me', 'my', 'myself', 'we', 'our', 'ours', 'ourselves', 'you', \"you're\", \"you've\", \"you'll\", \"you'd\", 'your', 'yours', 'yourself', 'yourselves', 'he', 'him', 'his', 'himself', 'she', \"she's\", 'her', 'hers', 'herself', 'it', \"it's\", 'its', 'itself', 'they', 'them', 'their', 'theirs', 'themselves', 'what', 'which', 'who', 'whom', 'this', 'that', \"that'll\", 'these', 'those', 'am', 'is', 'are', 'was', 'were', 'be', 'been', 'being', 'have', 'has', 'had', 'having', 'do', 'does', 'did', 'doing', 'a', 'an', 'the', 'and', 'but', 'if', 'or', 'because', 'as', 'until', 'while', 'of', 'at', 'by', 'for', 'with', 'about', 'against', 'between', 'into', 'through', 'during', 'before', 'after', 'above', 'below', 'to', 'from', 'up', 'down', 'in', 'out', 'on', 'off', 'over', 'under', 'again', 'further', 'then', 'once', 'here', 'there', 'when', 'where', 'why', 'how', 'all', 'any', 'both', 'each', 'few', 'more', 'most', 'other', 'some', 'such', 'no', 'nor', 'not', 'only', 'own', 'same', 'so', 'than', 'too', 'very', 's', 't', 'can', 'will', 'just', 'don', \"don't\", 'should', \"should've\", 'now', 'd', 'll', 'm', 'o', 're', 've', 'y', 'ain', 'aren', \"aren't\", 'couldn', \"couldn't\", 'didn', \"didn't\", 'doesn', \"doesn't\", 'hadn', \"hadn't\", 'hasn', \"hasn't\", 'haven', \"haven't\", 'isn', \"isn't\", 'ma', 'mightn', \"mightn't\", 'mustn', \"mustn't\", 'needn', \"needn't\", 'shan', \"shan't\", 'shouldn', \"shouldn't\", 'wasn', \"wasn't\", 'weren', \"weren't\", 'won', \"won't\", 'wouldn', \"wouldn't\"]\n"
     ]
    }
   ],
   "source": [
    "# List stop words\n",
    "from nltk.corpus import stopwords\n",
    "print(stopwords.words(\"english\"))"
   ]
  },
  {
   "cell_type": "code",
   "execution_count": 20,
   "metadata": {},
   "outputs": [
    {
     "name": "stdout",
     "output_type": "stream",
     "text": [
      "['the', 'first', 'time', 'you', 'see', 'the', 'second', 'renaissance', 'it', 'may', 'look', 'boring', 'look', 'at', 'it', 'at', 'least', 'twice', 'and', 'definitely', 'watch', 'part', '2', 'it', 'will', 'change', 'your', 'view', 'of', 'the', 'matrix', 'are', 'the', 'human', 'people', 'the', 'ones', 'who', 'started', 'the', 'war', 'is', 'ai', 'a', 'bad', 'thing']\n"
     ]
    }
   ],
   "source": [
    "# Reset text\n",
    "text = \"The first time you see The Second Renaissance it may look boring. Look at it at least twice and definitely watch part 2. It will change your view of the matrix. Are the human people the ones who started the war ? Is AI a bad thing ?\"\n",
    "\n",
    "# Normalize it\n",
    "text = re.sub(r\"[^a-zA-Z0-9]\", \" \", text.lower())\n",
    "\n",
    "# Tokenize it\n",
    "words = text.split()\n",
    "print(words)"
   ]
  },
  {
   "cell_type": "code",
   "execution_count": 21,
   "metadata": {},
   "outputs": [
    {
     "name": "stdout",
     "output_type": "stream",
     "text": [
      "['first', 'time', 'see', 'second', 'renaissance', 'may', 'look', 'boring', 'look', 'least', 'twice', 'definitely', 'watch', 'part', '2', 'change', 'view', 'matrix', 'human', 'people', 'ones', 'started', 'war', 'ai', 'bad', 'thing']\n"
     ]
    }
   ],
   "source": [
    "# Remove stop words\n",
    "words = [w for w in words if w not in stopwords.words(\"english\")]\n",
    "print(words)"
   ]
  },
  {
   "cell_type": "markdown",
   "metadata": {},
   "source": [
    "### Sentence Parsing"
   ]
  },
  {
   "cell_type": "code",
   "execution_count": 22,
   "metadata": {},
   "outputs": [
    {
     "name": "stdout",
     "output_type": "stream",
     "text": [
      "(S\n",
      "  (NP I)\n",
      "  (VP\n",
      "    (VP (V shot) (NP (Det an) (N elephant)))\n",
      "    (PP (P in) (NP (Det my) (N pajamas)))))\n",
      "(S\n",
      "  (NP I)\n",
      "  (VP\n",
      "    (V shot)\n",
      "    (NP (Det an) (N elephant) (PP (P in) (NP (Det my) (N pajamas))))))\n"
     ]
    }
   ],
   "source": [
    "import nltk\n",
    "\n",
    "# Define a custom grammar\n",
    "my_grammar = nltk.CFG.fromstring(\"\"\"\n",
    "S -> NP VP\n",
    "PP -> P NP\n",
    "NP -> Det N | Det N PP | 'I'\n",
    "VP -> V NP | VP PP\n",
    "Det -> 'an' | 'my'\n",
    "N -> 'elephant' | 'pajamas'\n",
    "V -> 'shot'\n",
    "P -> 'in'\n",
    "\"\"\")\n",
    "parser = nltk.ChartParser(my_grammar)\n",
    "\n",
    "# Parse a sentence\n",
    "sentence = word_tokenize(\"I shot an elephant in my pajamas\")\n",
    "for tree in parser.parse(sentence):\n",
    "    print(tree)"
   ]
  },
  {
   "cell_type": "markdown",
   "metadata": {},
   "source": [
    "## Stemming & Lemmatization\n",
    "\n",
    "### Stemming"
   ]
  },
  {
   "cell_type": "code",
   "execution_count": 29,
   "metadata": {},
   "outputs": [
    {
     "data": {
      "text/plain": [
       "array(['first', 'time', 'see', 'second', 'renaissance', 'may', 'look',\n",
       "       'boring', 'look', 'least', 'twice', 'definitely', 'watch', 'part',\n",
       "       '2', 'change', 'view', 'matrix', 'human', 'people', 'ones',\n",
       "       'started', 'war', 'ai', 'bad', 'thing'], \n",
       "      dtype='<U11')"
      ]
     },
     "execution_count": 29,
     "metadata": {},
     "output_type": "execute_result"
    }
   ],
   "source": [
    "import numpy as np\n",
    "np.array(words)"
   ]
  },
  {
   "cell_type": "code",
   "execution_count": 23,
   "metadata": {},
   "outputs": [
    {
     "name": "stdout",
     "output_type": "stream",
     "text": [
      "['first', 'time', 'see', 'second', 'renaiss', 'may', 'look', 'bore', 'look', 'least', 'twice', 'definit', 'watch', 'part', '2', 'chang', 'view', 'matrix', 'human', 'peopl', 'one', 'start', 'war', 'ai', 'bad', 'thing']\n"
     ]
    }
   ],
   "source": [
    "from nltk.stem.porter import PorterStemmer\n",
    "\n",
    "# Reduce words to their stems\n",
    "stemmed = [PorterStemmer().stem(w) for w in words]\n",
    "print(stemmed)"
   ]
  },
  {
   "cell_type": "markdown",
   "metadata": {},
   "source": [
    "### Lemmatization"
   ]
  },
  {
   "cell_type": "code",
   "execution_count": 24,
   "metadata": {},
   "outputs": [
    {
     "name": "stdout",
     "output_type": "stream",
     "text": [
      "['first', 'time', 'see', 'second', 'renaissance', 'may', 'look', 'boring', 'look', 'least', 'twice', 'definitely', 'watch', 'part', '2', 'change', 'view', 'matrix', 'human', 'people', 'one', 'started', 'war', 'ai', 'bad', 'thing']\n"
     ]
    }
   ],
   "source": [
    "from nltk.stem.wordnet import WordNetLemmatizer\n",
    "\n",
    "# Reduce words to their root form\n",
    "lemmed = [WordNetLemmatizer().lemmatize(w) for w in words]\n",
    "print(lemmed)"
   ]
  },
  {
   "cell_type": "code",
   "execution_count": 30,
   "metadata": {},
   "outputs": [
    {
     "name": "stdout",
     "output_type": "stream",
     "text": [
      "['first', 'time', 'see', 'second', 'renaissance', 'may', 'look', 'bore', 'look', 'least', 'twice', 'definitely', 'watch', 'part', '2', 'change', 'view', 'matrix', 'human', 'people', 'one', 'start', 'war', 'ai', 'bad', 'thing']\n"
     ]
    }
   ],
   "source": [
    "# Lemmatize verbs by specifying pos\n",
    "lemmed = [WordNetLemmatizer().lemmatize(w, pos='v') for w in lemmed]\n",
    "print(lemmed)"
   ]
  },
  {
   "cell_type": "code",
   "execution_count": null,
   "metadata": {},
   "outputs": [],
   "source": []
  }
 ],
 "metadata": {
  "kernelspec": {
   "display_name": "Python 3",
   "language": "python",
   "name": "python3"
  },
  "language_info": {
   "codemirror_mode": {
    "name": "ipython",
    "version": 3
   },
   "file_extension": ".py",
   "mimetype": "text/x-python",
   "name": "python",
   "nbconvert_exporter": "python",
   "pygments_lexer": "ipython3",
   "version": "3.6.3"
  }
 },
 "nbformat": 4,
 "nbformat_minor": 2
}
