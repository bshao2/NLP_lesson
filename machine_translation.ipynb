{
 "cells": [
  {
   "cell_type": "markdown",
   "metadata": {
    "collapsed": true
   },
   "source": [
    "# Artificial Intelligence Nanodegree\n",
    "## Machine Translation Project\n",
    "In this notebook, sections that end with **'(IMPLEMENTATION)'** in the header indicate that the following blocks of code will require additional functionality which you must provide. Please be sure to read the instructions carefully!\n",
    "\n",
    "## Introduction\n",
    "In this notebook, you will build a deep neural network that functions as part of an end-to-end machine translation pipeline. Your completed pipeline will accept English text as input and return the French translation.\n",
    "\n",
    "- **Preprocess** - You'll convert text to sequence of integers.\n",
    "- **Models** Create models which accepts a sequence of integers as input and returns a probability distribution over possible translations. After learning about the basic types of neural networks that are often used for machine translation, you will engage in your own investigations, to design your own model!\n",
    "- **Prediction** Run the model on English text."
   ]
  },
  {
   "cell_type": "code",
   "execution_count": 4,
   "metadata": {},
   "outputs": [
    {
     "name": "stdout",
     "output_type": "stream",
     "text": [
      "The autoreload extension is already loaded. To reload it, use:\n",
      "  %reload_ext autoreload\n"
     ]
    }
   ],
   "source": [
    "%load_ext autoreload\n",
    "%aimport helper, tests\n",
    "%autoreload 1"
   ]
  },
  {
   "cell_type": "code",
   "execution_count": 5,
   "metadata": {},
   "outputs": [
    {
     "name": "stderr",
     "output_type": "stream",
     "text": [
      "Using TensorFlow backend.\n"
     ]
    }
   ],
   "source": [
    "import collections\n",
    "\n",
    "import helper\n",
    "import numpy as np\n",
    "import project_tests as tests\n",
    "import keras\n",
    "\n",
    "from keras.preprocessing.text import Tokenizer\n",
    "from keras.preprocessing.sequence import pad_sequences\n",
    "from keras.models import Model\n",
    "from keras.layers import GRU, Input, Dense, TimeDistributed, Activation, RepeatVector, Bidirectional\n",
    "from keras.layers.embeddings import Embedding\n",
    "from keras.optimizers import Adam\n",
    "from keras.losses import sparse_categorical_crossentropy"
   ]
  },
  {
   "cell_type": "markdown",
   "metadata": {},
   "source": [
    "### Verify access to the GPU\n",
    "The following test applies only if you expect to be using a GPU, e.g., while running in a Udacity Workspace or using an AWS instance with GPU support. Run the next cell, and verify that the device_type is \"GPU\".\n",
    "- If the device is not GPU & you are running from a Udacity Workspace, then save your workspace with the icon at the top, then click \"enable\" at the bottom of the workspace.\n",
    "- If the device is not GPU & you are running from an AWS instance, then refer to the cloud computing instructions in the classroom to verify your setup steps."
   ]
  },
  {
   "cell_type": "code",
   "execution_count": 6,
   "metadata": {},
   "outputs": [
    {
     "name": "stdout",
     "output_type": "stream",
     "text": [
      "[name: \"/cpu:0\"\n",
      "device_type: \"CPU\"\n",
      "memory_limit: 268435456\n",
      "locality {\n",
      "}\n",
      "incarnation: 2417894954829616133\n",
      ", name: \"/gpu:0\"\n",
      "device_type: \"GPU\"\n",
      "memory_limit: 357564416\n",
      "locality {\n",
      "  bus_id: 1\n",
      "}\n",
      "incarnation: 16124848107566838512\n",
      "physical_device_desc: \"device: 0, name: Tesla K80, pci bus id: 0000:00:04.0\"\n",
      "]\n"
     ]
    }
   ],
   "source": [
    "from tensorflow.python.client import device_lib\n",
    "print(device_lib.list_local_devices())"
   ]
  },
  {
   "cell_type": "markdown",
   "metadata": {},
   "source": [
    "## Dataset\n",
    "We begin by investigating the dataset that will be used to train and evaluate your pipeline.  The most common datasets used for machine translation are from [WMT](http://www.statmt.org/).  However, that will take a long time to train a neural network on.  We'll be using a dataset we created for this project that contains a small vocabulary.  You'll be able to train your model in a reasonable time with this dataset.\n",
    "### Load Data\n",
    "The data is located in `data/small_vocab_en` and `data/small_vocab_fr`. The `small_vocab_en` file contains English sentences with their French translations in the `small_vocab_fr` file. Load the English and French data from these files from running the cell below."
   ]
  },
  {
   "cell_type": "code",
   "execution_count": 8,
   "metadata": {},
   "outputs": [
    {
     "name": "stdout",
     "output_type": "stream",
     "text": [
      "Dataset Loaded\n"
     ]
    }
   ],
   "source": [
    "# Load English data\n",
    "english_sentences = helper.load_data('../data/small_vocab_en')\n",
    "# Load French data\n",
    "french_sentences = helper.load_data('../data/small_vocab_fr')\n",
    "\n",
    "print('Dataset Loaded')"
   ]
  },
  {
   "cell_type": "code",
   "execution_count": 9,
   "metadata": {},
   "outputs": [
    {
     "name": "stdout",
     "output_type": "stream",
     "text": [
      "137861\n",
      "new jersey is sometimes quiet during autumn , and it is snowy in april .\n",
      "the united states is usually chilly during july , and it is usually freezing in november .\n",
      "california is usually quiet during march , and it is usually hot in june .\n"
     ]
    }
   ],
   "source": [
    "print(len(english_sentences))\n",
    "for aa in english_sentences[0:3]:\n",
    "    print(aa)"
   ]
  },
  {
   "cell_type": "code",
   "execution_count": 10,
   "metadata": {},
   "outputs": [
    {
     "name": "stdout",
     "output_type": "stream",
     "text": [
      "137861\n",
      "new jersey est parfois calme pendant l' automne , et il est neigeux en avril .\n",
      "les états-unis est généralement froid en juillet , et il gèle habituellement en novembre .\n",
      "california est généralement calme en mars , et il est généralement chaud en juin .\n"
     ]
    }
   ],
   "source": [
    "print(len(french_sentences))\n",
    "for aa in french_sentences[0:3]:\n",
    "    print(aa)"
   ]
  },
  {
   "cell_type": "markdown",
   "metadata": {},
   "source": [
    "### Files\n",
    "Each line in `small_vocab_en` contains an English sentence with the respective translation in each line of `small_vocab_fr`.  View the first two lines from each file."
   ]
  },
  {
   "cell_type": "code",
   "execution_count": 11,
   "metadata": {},
   "outputs": [
    {
     "name": "stdout",
     "output_type": "stream",
     "text": [
      "small_vocab_en Line 1:  new jersey is sometimes quiet during autumn , and it is snowy in april .\n",
      "small_vocab_fr Line 1:  new jersey est parfois calme pendant l' automne , et il est neigeux en avril .\n",
      "small_vocab_en Line 2:  the united states is usually chilly during july , and it is usually freezing in november .\n",
      "small_vocab_fr Line 2:  les états-unis est généralement froid en juillet , et il gèle habituellement en novembre .\n"
     ]
    }
   ],
   "source": [
    "for sample_i in range(2):\n",
    "    print('small_vocab_en Line {}:  {}'.format(sample_i + 1, english_sentences[sample_i]))\n",
    "    print('small_vocab_fr Line {}:  {}'.format(sample_i + 1, french_sentences[sample_i]))"
   ]
  },
  {
   "cell_type": "markdown",
   "metadata": {},
   "source": [
    "From looking at the sentences, you can see they have been preprocessed already.  The puncuations have been delimited using spaces. All the text have been converted to lowercase.  This should save you some time, but the text requires more preprocessing.\n",
    "### Vocabulary\n",
    "The complexity of the problem is determined by the complexity of the vocabulary.  A more complex vocabulary is a more complex problem.  Let's look at the complexity of the dataset we'll be working with."
   ]
  },
  {
   "cell_type": "code",
   "execution_count": 12,
   "metadata": {},
   "outputs": [
    {
     "name": "stdout",
     "output_type": "stream",
     "text": [
      "1823250 English words.\n",
      "227 unique English words.\n",
      "10 Most common words in the English dataset:\n",
      "\"is\" \",\" \".\" \"in\" \"it\" \"during\" \"the\" \"but\" \"and\" \"sometimes\"\n",
      "\n",
      "1961295 French words.\n",
      "355 unique French words.\n",
      "10 Most common words in the French dataset:\n",
      "\"est\" \".\" \",\" \"en\" \"il\" \"les\" \"mais\" \"et\" \"la\" \"parfois\"\n"
     ]
    }
   ],
   "source": [
    "english_words_counter = collections.Counter([word for sentence in english_sentences for word in sentence.split()])\n",
    "french_words_counter = collections.Counter([word for sentence in french_sentences for word in sentence.split()])\n",
    "\n",
    "print('{} English words.'.format(len([word for sentence in english_sentences for word in sentence.split()])))\n",
    "print('{} unique English words.'.format(len(english_words_counter)))\n",
    "print('10 Most common words in the English dataset:')\n",
    "print('\"' + '\" \"'.join(list(zip(*english_words_counter.most_common(10)))[0]) + '\"')\n",
    "print()\n",
    "print('{} French words.'.format(len([word for sentence in french_sentences for word in sentence.split()])))\n",
    "print('{} unique French words.'.format(len(french_words_counter)))\n",
    "print('10 Most common words in the French dataset:')\n",
    "print('\"' + '\" \"'.join(list(zip(*french_words_counter.most_common(10)))[0]) + '\"')"
   ]
  },
  {
   "cell_type": "markdown",
   "metadata": {},
   "source": [
    "For comparison, _Alice's Adventures in Wonderland_ contains 2,766 unique words of a total of 15,500 words.\n",
    "## Preprocess\n",
    "For this project, you won't use text data as input to your model. Instead, you'll convert the text into sequences of integers using the following preprocess methods:\n",
    "1. Tokenize the words into ids\n",
    "2. Add padding to make all the sequences the same length.\n",
    "\n",
    "Time to start preprocessing the data...\n",
    "### Tokenize (IMPLEMENTATION)\n",
    "For a neural network to predict on text data, it first has to be turned into data it can understand. Text data like \"dog\" is a sequence of ASCII character encodings.  Since a neural network is a series of multiplication and addition operations, the input data needs to be number(s).\n",
    "\n",
    "We can turn each character into a number or each word into a number.  These are called character and word ids, respectively.  Character ids are used for character level models that generate text predictions for each character.  A word level model uses word ids that generate text predictions for each word.  Word level models tend to learn better, since they are lower in complexity, so we'll use those.\n",
    "\n",
    "Turn each sentence into a sequence of words ids using Keras's [`Tokenizer`](https://keras.io/preprocessing/text/#tokenizer) function. Use this function to tokenize `english_sentences` and `french_sentences` in the cell below.\n",
    "\n",
    "Running the cell will run `tokenize` on sample data and show output for debugging."
   ]
  },
  {
   "cell_type": "code",
   "execution_count": 13,
   "metadata": {},
   "outputs": [
    {
     "name": "stdout",
     "output_type": "stream",
     "text": [
      "{'the': 1, 'quick': 2, 'a': 3, 'brown': 4, 'fox': 5, 'jumps': 6, 'over': 7, 'lazy': 8, 'dog': 9, 'by': 10, 'jove': 11, 'my': 12, 'study': 13, 'of': 14, 'lexicography': 15, 'won': 16, 'prize': 17, 'this': 18, 'is': 19, 'short': 20, 'sentence': 21}\n",
      "\n",
      "Sequence 1 in x\n",
      "  Input:  The quick brown fox jumps over the lazy dog .\n",
      "  Output: [1, 2, 4, 5, 6, 7, 1, 8, 9]\n",
      "Sequence 2 in x\n",
      "  Input:  By Jove , my quick study of lexicography won a prize .\n",
      "  Output: [10, 11, 12, 2, 13, 14, 15, 16, 3, 17]\n",
      "Sequence 3 in x\n",
      "  Input:  This is a short sentence .\n",
      "  Output: [18, 19, 3, 20, 21]\n"
     ]
    }
   ],
   "source": [
    "def tokenize(x):\n",
    "    \"\"\"\n",
    "    Tokenize x\n",
    "    :param x: List of sentences/strings to be tokenized\n",
    "    :return: Tuple of (tokenized x data, tokenizer used to tokenize x)\n",
    "    \"\"\"\n",
    "    \n",
    "    x_tk=Tokenizer()\n",
    "    x_tk.fit_on_texts(x)\n",
    "    \n",
    "    return x_tk.texts_to_sequences(x), x_tk\n",
    "\n",
    "\n",
    "tests.test_tokenize(tokenize)\n",
    "\n",
    "# Tokenize Example output\n",
    "text_sentences = [\n",
    "    'The quick brown fox jumps over the lazy dog .',\n",
    "    'By Jove , my quick study of lexicography won a prize .',\n",
    "    'This is a short sentence .']\n",
    "\n",
    "text_tokenized, text_tokenizer = tokenize(text_sentences)\n",
    "\n",
    "print(text_tokenizer.word_index)\n",
    "print()\n",
    "for sample_i, (sent, token_sent) in enumerate(zip(text_sentences, text_tokenized)):\n",
    "    print('Sequence {} in x'.format(sample_i + 1))\n",
    "    print('  Input:  {}'.format(sent))\n",
    "    print('  Output: {}'.format(token_sent))"
   ]
  },
  {
   "cell_type": "markdown",
   "metadata": {},
   "source": [
    "### Padding (IMPLEMENTATION)\n",
    "When batching the sequence of word ids together, each sequence needs to be the same length.  Since sentences are dynamic in length, we can add padding to the end of the sequences to make them the same length.\n",
    "\n",
    "Make sure all the English sequences have the same length and all the French sequences have the same length by adding padding to the **end** of each sequence using Keras's [`pad_sequences`](https://keras.io/preprocessing/sequence/#pad_sequences) function."
   ]
  },
  {
   "cell_type": "code",
   "execution_count": 14,
   "metadata": {},
   "outputs": [
    {
     "name": "stdout",
     "output_type": "stream",
     "text": [
      "Sequence 1 in x\n",
      "  Input:  [1 2 4 5 6 7 1 8 9]\n",
      "  Output: [1 2 4 5 6 7 1 8 9 0]\n",
      "\n",
      "Sequence 2 in x\n",
      "  Input:  [10 11 12  2 13 14 15 16  3 17]\n",
      "  Output: [10 11 12  2 13 14 15 16  3 17]\n",
      "\n",
      "Sequence 3 in x\n",
      "  Input:  [18 19  3 20 21]\n",
      "  Output: [18 19  3 20 21  0  0  0  0  0]\n",
      "\n"
     ]
    }
   ],
   "source": [
    "def pad(x, length=None):\n",
    "    \"\"\"\n",
    "    Pad x\n",
    "    :param x: List of sequences.\n",
    "    :param length: Length to pad the sequence to.  If None, use length of longest sequence in x.\n",
    "    :return: Padded numpy array of sequences\n",
    "    \"\"\"\n",
    "    # TODO: Implement\n",
    "    if length is None:\n",
    "        length = max([len(sentence) for sentence in x])\n",
    "    return pad_sequences(x, maxlen=length, padding='post')\n",
    "    \n",
    "    \n",
    "tests.test_pad(pad)\n",
    "\n",
    "# Pad Tokenized output\n",
    "test_pad = pad(text_tokenized)\n",
    "\n",
    "for sample_i, (token_sent, pad_sent) in enumerate(zip(text_tokenized, test_pad)):\n",
    "    print('Sequence {} in x'.format(sample_i + 1))\n",
    "    print('  Input:  {}'.format(np.array(token_sent)))\n",
    "    print('  Output: {}'.format(pad_sent))\n",
    "    print()"
   ]
  },
  {
   "cell_type": "markdown",
   "metadata": {},
   "source": [
    "### Preprocess Pipeline\n",
    "Your focus for this project is to build neural network architecture, so we won't ask you to create a preprocess pipeline.  Instead, we've provided you with the implementation of the `preprocess` function."
   ]
  },
  {
   "cell_type": "code",
   "execution_count": 15,
   "metadata": {},
   "outputs": [
    {
     "name": "stdout",
     "output_type": "stream",
     "text": [
      "Data Preprocessed\n",
      "Max English sentence length: 15\n",
      "Max French sentence length: 21\n",
      "English vocabulary size: 199\n",
      "French vocabulary size: 344\n"
     ]
    }
   ],
   "source": [
    "def preprocess(x, y):\n",
    "    \"\"\"\n",
    "    Preprocess x and y\n",
    "    :param x: Feature List of sentences\n",
    "    :param y: Label List of sentences\n",
    "    :return: Tuple of (Preprocessed x, Preprocessed y, x tokenizer, y tokenizer)\n",
    "    \"\"\"\n",
    "    preprocess_x, x_tk = tokenize(x)\n",
    "    preprocess_y, y_tk = tokenize(y)\n",
    "\n",
    "    preprocess_x = pad(preprocess_x)\n",
    "    preprocess_y = pad(preprocess_y)\n",
    "\n",
    "    # Keras's sparse_categorical_crossentropy function requires the labels to be in 3 dimensions\n",
    "    preprocess_y = preprocess_y.reshape(*preprocess_y.shape, 1)\n",
    "\n",
    "    return preprocess_x, preprocess_y, x_tk, y_tk\n",
    "\n",
    "preproc_english_sentences, preproc_french_sentences, english_tokenizer, french_tokenizer=preprocess(english_sentences, french_sentences)\n",
    "    \n",
    "max_english_sequence_length = preproc_english_sentences.shape[1]\n",
    "max_french_sequence_length = preproc_french_sentences.shape[1]\n",
    "english_vocab_size = len(english_tokenizer.word_index)\n",
    "french_vocab_size = len(french_tokenizer.word_index)\n",
    "\n",
    "print('Data Preprocessed')\n",
    "print(\"Max English sentence length:\", max_english_sequence_length)\n",
    "print(\"Max French sentence length:\", max_french_sequence_length)\n",
    "print(\"English vocabulary size:\", english_vocab_size)\n",
    "print(\"French vocabulary size:\", french_vocab_size)"
   ]
  },
  {
   "cell_type": "code",
   "execution_count": 16,
   "metadata": {},
   "outputs": [
    {
     "name": "stdout",
     "output_type": "stream",
     "text": [
      "(137861, 15)\n",
      "(137861, 21, 1)\n"
     ]
    }
   ],
   "source": [
    "print(preproc_english_sentences.shape)\n",
    "print(preproc_french_sentences.shape)"
   ]
  },
  {
   "cell_type": "code",
   "execution_count": 17,
   "metadata": {},
   "outputs": [
    {
     "name": "stdout",
     "output_type": "stream",
     "text": [
      "[17 23  1  8 67  4 39  7  3  1 55  2 44  0  0]\n",
      "[[ 35]\n",
      " [ 34]\n",
      " [  1]\n",
      " [  8]\n",
      " [ 67]\n",
      " [ 37]\n",
      " [ 11]\n",
      " [ 24]\n",
      " [  6]\n",
      " [  3]\n",
      " [  1]\n",
      " [112]\n",
      " [  2]\n",
      " [ 50]\n",
      " [  0]\n",
      " [  0]\n",
      " [  0]\n",
      " [  0]\n",
      " [  0]\n",
      " [  0]\n",
      " [  0]]\n"
     ]
    }
   ],
   "source": [
    "### print the first processed sentences\n",
    "print(preproc_english_sentences[0])\n",
    "print(preproc_french_sentences[0])"
   ]
  },
  {
   "cell_type": "markdown",
   "metadata": {},
   "source": [
    "## Models\n",
    "In this section, you will experiment with various neural network architectures.\n",
    "You will begin by training four relatively simple architectures.\n",
    "- Model 1 is a simple RNN\n",
    "- Model 2 is a RNN with Embedding\n",
    "- Model 3 is a Bidirectional RNN\n",
    "- Model 4 is an optional Encoder-Decoder RNN\n",
    "\n",
    "After experimenting with the four simple architectures, you will construct a deeper architecture that is designed to outperform all four models.\n",
    "### Ids Back to Text\n",
    "The neural network will be translating the input to words ids, which isn't the final form we want.  We want the French translation.  The function `logits_to_text` will bridge the gab between the logits from the neural network to the French translation.  You'll be using this function to better understand the output of the neural network."
   ]
  },
  {
   "cell_type": "code",
   "execution_count": 21,
   "metadata": {},
   "outputs": [
    {
     "name": "stdout",
     "output_type": "stream",
     "text": [
      "`logits_to_text` function loaded.\n"
     ]
    }
   ],
   "source": [
    "def logits_to_text(logits, tokenizer):\n",
    "    \"\"\"\n",
    "    Turn logits from a neural network into text using the tokenizer\n",
    "    :param logits: Logits from a neural network\n",
    "    :param tokenizer: Keras Tokenizer fit on the labels\n",
    "    :return: String that represents the text of the logits\n",
    "    \"\"\"\n",
    "    index_to_words = {id: word for word, id in tokenizer.word_index.items()}\n",
    "    index_to_words[0] = '<PAD>'\n",
    "\n",
    "    return ' '.join([index_to_words[prediction] for prediction in np.argmax(logits, 1)])\n",
    "\n",
    "print('`logits_to_text` function loaded.')"
   ]
  },
  {
   "cell_type": "markdown",
   "metadata": {},
   "source": [
    "### Model 1: RNN (IMPLEMENTATION)\n",
    "![RNN](images/rnn.png)\n",
    "A basic RNN model is a good baseline for sequence data.  In this model, you'll build a RNN that translates English to French."
   ]
  },
  {
   "cell_type": "code",
   "execution_count": 23,
   "metadata": {},
   "outputs": [
    {
     "name": "stdout",
     "output_type": "stream",
     "text": [
      "Train on 110288 samples, validate on 27573 samples\n",
      "Epoch 1/10\n",
      "110288/110288 [==============================] - 7s 67us/step - loss: 3.5195 - acc: 0.4071 - val_loss: nan - val_acc: 0.4577\n",
      "Epoch 2/10\n",
      "110288/110288 [==============================] - 7s 63us/step - loss: 2.4699 - acc: 0.4697 - val_loss: nan - val_acc: 0.4844\n",
      "Epoch 3/10\n",
      "110288/110288 [==============================] - 7s 63us/step - loss: 2.2254 - acc: 0.5025 - val_loss: nan - val_acc: 0.5199\n",
      "Epoch 4/10\n",
      "110288/110288 [==============================] - 7s 64us/step - loss: 2.0066 - acc: 0.5360 - val_loss: nan - val_acc: 0.5555\n",
      "Epoch 5/10\n",
      "110288/110288 [==============================] - 7s 65us/step - loss: 1.8435 - acc: 0.5688 - val_loss: nan - val_acc: 0.5839\n",
      "Epoch 6/10\n",
      "110288/110288 [==============================] - 7s 63us/step - loss: 1.7189 - acc: 0.5812 - val_loss: nan - val_acc: 0.5835\n",
      "Epoch 7/10\n",
      "110288/110288 [==============================] - 7s 63us/step - loss: 1.6305 - acc: 0.5900 - val_loss: nan - val_acc: 0.5973\n",
      "Epoch 8/10\n",
      "110288/110288 [==============================] - 7s 63us/step - loss: 1.5672 - acc: 0.5993 - val_loss: nan - val_acc: 0.6072\n",
      "Epoch 9/10\n",
      "110288/110288 [==============================] - 7s 63us/step - loss: 1.5150 - acc: 0.6077 - val_loss: nan - val_acc: 0.6107\n",
      "Epoch 10/10\n",
      "110288/110288 [==============================] - 7s 63us/step - loss: 1.4684 - acc: 0.6133 - val_loss: nan - val_acc: 0.6170\n",
      "new jersey est parfois parfois en en et il est il en en <PAD> <PAD> <PAD> <PAD> <PAD> <PAD> <PAD> <PAD>\n"
     ]
    }
   ],
   "source": [
    "def simple_model(input_shape, output_sequence_length, english_vocab_size, french_vocab_size):\n",
    "    \"\"\"\n",
    "    Build and train a basic RNN on x and y\n",
    "    :param input_shape: Tuple of input shape\n",
    "    :param output_sequence_length: Length of output sequence\n",
    "    :param english_vocab_size: Number of unique English words in the dataset\n",
    "    :param french_vocab_size: Number of unique French words in the dataset\n",
    "    :return: Keras model built, but not trained\n",
    "    \"\"\"\n",
    "    # TODO: Build the layers\n",
    "    learning_rate = 0.001\n",
    "\n",
    "    input_seq = Input(input_shape[1:])\n",
    "    \n",
    "    rnn = GRU(64, return_sequences=True)(input_seq)\n",
    "    \n",
    "    logits = TimeDistributed(Dense(french_vocab_size))(rnn)\n",
    "\n",
    "    model = Model(input_seq, Activation('softmax')(logits))\n",
    "    \n",
    "    \n",
    "    model.compile(loss=sparse_categorical_crossentropy, optimizer=Adam(learning_rate), metrics=['accuracy'])\n",
    "    return model\n",
    "\n",
    "\n",
    "tests.test_simple_model(simple_model)\n",
    "\n",
    "# Reshaping the input to work with a basic RNN\n",
    "tmp_x = pad(preproc_english_sentences, max_french_sequence_length)\n",
    "tmp_x = tmp_x.reshape((-1, preproc_french_sentences.shape[-2], 1))\n",
    "\n",
    "# Train the neural network\n",
    "simple_rnn_model = simple_model( tmp_x.shape, max_french_sequence_length, english_vocab_size, french_vocab_size)\n",
    "\n",
    "simple_rnn_model.fit(tmp_x, preproc_french_sentences, batch_size=1024, epochs=10, validation_split=0.2)\n",
    "\n",
    "#Print prediction(s)\n",
    "print(logits_to_text(simple_rnn_model.predict(tmp_x[:1])[0], french_tokenizer))"
   ]
  },
  {
   "cell_type": "markdown",
   "metadata": {},
   "source": [
    "### Model 2: Embedding (IMPLEMENTATION)\n",
    "![RNN](images/embedding.png)\n",
    "You've turned the words into ids, but there's a better representation of a word.  This is called word embeddings.  An embedding is a vector representation of the word that is close to similar words in n-dimensional space, where the n represents the size of the embedding vectors.\n",
    "\n",
    "In this model, you'll create a RNN model using embedding."
   ]
  },
  {
   "cell_type": "code",
   "execution_count": 25,
   "metadata": {},
   "outputs": [
    {
     "name": "stdout",
     "output_type": "stream",
     "text": [
      "Train on 110288 samples, validate on 27573 samples\n",
      "Epoch 1/10\n",
      "110288/110288 [==============================] - 8s 76us/step - loss: 3.7327 - acc: 0.4033 - val_loss: nan - val_acc: 0.4096\n",
      "Epoch 2/10\n",
      "110288/110288 [==============================] - 8s 72us/step - loss: 2.4507 - acc: 0.4859 - val_loss: nan - val_acc: 0.5617\n",
      "Epoch 3/10\n",
      "110288/110288 [==============================] - 8s 71us/step - loss: 1.6130 - acc: 0.6237 - val_loss: nan - val_acc: 0.6763\n",
      "Epoch 4/10\n",
      "110288/110288 [==============================] - 8s 72us/step - loss: 1.1574 - acc: 0.7117 - val_loss: nan - val_acc: 0.7489\n",
      "Epoch 5/10\n",
      "110288/110288 [==============================] - 8s 72us/step - loss: 0.8976 - acc: 0.7676 - val_loss: nan - val_acc: 0.7855\n",
      "Epoch 6/10\n",
      "110288/110288 [==============================] - 8s 72us/step - loss: 0.7535 - acc: 0.7976 - val_loss: nan - val_acc: 0.8104\n",
      "Epoch 7/10\n",
      "110288/110288 [==============================] - 8s 72us/step - loss: 0.6562 - acc: 0.8185 - val_loss: nan - val_acc: 0.8267\n",
      "Epoch 8/10\n",
      "110288/110288 [==============================] - 8s 72us/step - loss: 0.5866 - acc: 0.8338 - val_loss: nan - val_acc: 0.8413\n",
      "Epoch 9/10\n",
      "110288/110288 [==============================] - 8s 72us/step - loss: 0.5339 - acc: 0.8469 - val_loss: nan - val_acc: 0.8542\n",
      "Epoch 10/10\n",
      "110288/110288 [==============================] - 8s 73us/step - loss: 0.4916 - acc: 0.8586 - val_loss: nan - val_acc: 0.8641\n",
      "new jersey est parfois calme en l' et il il est neigeux en avril <PAD> <PAD> <PAD> <PAD> <PAD> <PAD> <PAD>\n"
     ]
    }
   ],
   "source": [
    "def embed_model(input_shape, output_sequence_length, english_vocab_size, french_vocab_size):\n",
    "    \"\"\"\n",
    "    Build and train a RNN model using word embedding on x and y\n",
    "    :param input_shape: Tuple of input shape\n",
    "    :param output_sequence_length: Length of output sequence\n",
    "    :param english_vocab_size: Number of unique English words in the dataset\n",
    "    :param french_vocab_size: Number of unique French words in the dataset\n",
    "    :return: Keras model built, but not trained\n",
    "    \"\"\"\n",
    "    # TODO: Implement\n",
    "    \n",
    "    \n",
    "    # TODO: Build the layers\n",
    "    learning_rate = 0.001\n",
    "\n",
    "    input_seq = Input(input_shape[1:])\n",
    "    embedding_layer=Embedding(input_dim=english_vocab_size, output_dim=128)(input_seq)\n",
    "    rnn = GRU(64, return_sequences=True)(embedding_layer)\n",
    "    \n",
    "    logits = TimeDistributed(Dense(french_vocab_size))(rnn)\n",
    "\n",
    "    model = Model(input_seq, Activation('softmax')(logits))\n",
    "    \n",
    "    model.compile(loss=sparse_categorical_crossentropy, optimizer=Adam(learning_rate), metrics=['accuracy'])\n",
    "    return model\n",
    "\n",
    "tests.test_embed_model(embed_model)\n",
    "\n",
    "\n",
    "# Reshaping the input to work with a basic RNN\n",
    "tmp_x = pad(preproc_english_sentences, max_french_sequence_length)\n",
    "#tmp_x = tmp_x.reshape((-1, preproc_french_sentences.shape[-2], 1))\n",
    "\n",
    "# Train the neural network\n",
    "embed_rnn_model = embed_model( tmp_x.shape, max_french_sequence_length, english_vocab_size, french_vocab_size)\n",
    "\n",
    "embed_rnn_model.fit(tmp_x, preproc_french_sentences, batch_size=1024, epochs=10, validation_split=0.2)\n",
    "\n",
    "#Print prediction(s)\n",
    "print(logits_to_text(embed_rnn_model.predict(tmp_x[:1])[0], french_tokenizer))"
   ]
  },
  {
   "cell_type": "markdown",
   "metadata": {},
   "source": [
    "### Model 3: Bidirectional RNNs (IMPLEMENTATION)\n",
    "![RNN](images/bidirectional.png)\n",
    "One restriction of a RNN is that it can't see the future input, only the past.  This is where bidirectional recurrent neural networks come in.  They are able to see the future data."
   ]
  },
  {
   "cell_type": "code",
   "execution_count": 31,
   "metadata": {},
   "outputs": [
    {
     "name": "stdout",
     "output_type": "stream",
     "text": [
      "Train on 110288 samples, validate on 27573 samples\n",
      "Epoch 1/10\n",
      "110288/110288 [==============================] - 11s 102us/step - loss: 2.7496 - acc: 0.4891 - val_loss: nan - val_acc: 0.5996\n",
      "Epoch 2/10\n",
      "110288/110288 [==============================] - 10s 92us/step - loss: 1.4255 - acc: 0.6174 - val_loss: nan - val_acc: 0.6329\n",
      "Epoch 3/10\n",
      "110288/110288 [==============================] - 10s 94us/step - loss: 1.2788 - acc: 0.6420 - val_loss: nan - val_acc: 0.6575\n",
      "Epoch 4/10\n",
      "110288/110288 [==============================] - 10s 94us/step - loss: 1.2051 - acc: 0.6581 - val_loss: nan - val_acc: 0.6656\n",
      "Epoch 5/10\n",
      "110288/110288 [==============================] - 10s 93us/step - loss: 1.1548 - acc: 0.6696 - val_loss: nan - val_acc: 0.6704\n",
      "Epoch 6/10\n",
      "110288/110288 [==============================] - 10s 92us/step - loss: 1.1237 - acc: 0.6751 - val_loss: nan - val_acc: 0.6775\n",
      "Epoch 7/10\n",
      "110288/110288 [==============================] - 10s 93us/step - loss: 1.0994 - acc: 0.6791 - val_loss: nan - val_acc: 0.6804\n",
      "Epoch 8/10\n",
      "110288/110288 [==============================] - 10s 93us/step - loss: 1.0750 - acc: 0.6835 - val_loss: nan - val_acc: 0.6836\n",
      "Epoch 9/10\n",
      "110288/110288 [==============================] - 10s 94us/step - loss: 1.0579 - acc: 0.6863 - val_loss: nan - val_acc: 0.6857\n",
      "Epoch 10/10\n",
      "110288/110288 [==============================] - 10s 93us/step - loss: 1.0424 - acc: 0.6886 - val_loss: nan - val_acc: 0.6876\n",
      "new jersey est parfois calme en mois et il est est en en <PAD> <PAD> <PAD> <PAD> <PAD> <PAD> <PAD> <PAD>\n"
     ]
    }
   ],
   "source": [
    "def bd_model(input_shape, output_sequence_length, english_vocab_size, french_vocab_size):\n",
    "    \"\"\"\n",
    "    Build and train a bidirectional RNN model on x and y\n",
    "    :param input_shape: Tuple of input shape\n",
    "    :param output_sequence_length: Length of output sequence\n",
    "    :param english_vocab_size: Number of unique English words in the dataset\n",
    "    :param french_vocab_size: Number of unique French words in the dataset\n",
    "    :return: Keras model built, but not trained\n",
    "    \"\"\"\n",
    "    # TODO: Implement\n",
    "    learning_rate = 0.001\n",
    "    input_seq = Input(input_shape[1:])\n",
    "    \n",
    "    bidirectional = Bidirectional(GRU(64, activation='relu', return_sequences=True))(input_seq)\n",
    "    \n",
    "    \n",
    "    logits = TimeDistributed(Dense(french_vocab_size))(bidirectional)\n",
    "    model = Model(input_seq, Activation('softmax')(logits))\n",
    "                           \n",
    "    model.compile(loss=sparse_categorical_crossentropy, optimizer=Adam(learning_rate),metrics=['accuracy'])\n",
    "\n",
    "    \n",
    "    return model\n",
    "\n",
    "\n",
    "tests.test_bd_model(bd_model)\n",
    "\n",
    "\n",
    "\n",
    "# Reshaping the input to work with a basic RNN\n",
    "tmp_x = pad(preproc_english_sentences, max_french_sequence_length)\n",
    "tmp_x = tmp_x.reshape((-1, preproc_french_sentences.shape[-2], 1))\n",
    "\n",
    "# Train the neural network\n",
    "bd_rnn_model = bd_model( tmp_x.shape, max_french_sequence_length, english_vocab_size, french_vocab_size)\n",
    "\n",
    "bd_rnn_model.fit(tmp_x, preproc_french_sentences, batch_size=1024, epochs=10, validation_split=0.2)\n",
    "\n",
    "#Print prediction(s)\n",
    "print(logits_to_text(bd_rnn_model.predict(tmp_x[:1])[0], french_tokenizer))\n",
    "\n",
    "# TODO: Train and Print prediction(s)"
   ]
  },
  {
   "cell_type": "markdown",
   "metadata": {},
   "source": [
    "### Model 4: Encoder-Decoder (OPTIONAL)\n",
    "Time to look at encoder-decoder models.  This model is made up of an encoder and decoder. The encoder creates a matrix representation of the sentence.  The decoder takes this matrix as input and predicts the translation as output.\n",
    "\n",
    "Create an encoder-decoder model in the cell below."
   ]
  },
  {
   "cell_type": "code",
   "execution_count": 35,
   "metadata": {},
   "outputs": [
    {
     "name": "stdout",
     "output_type": "stream",
     "text": [
      "Train on 110288 samples, validate on 27573 samples\n",
      "Epoch 1/10\n",
      "110288/110288 [==============================] - 23s 209us/step - loss: 2.6610 - acc: 0.4512 - val_loss: nan - val_acc: 0.5104\n",
      "Epoch 2/10\n",
      "110288/110288 [==============================] - 22s 198us/step - loss: 1.8804 - acc: 0.5371 - val_loss: nan - val_acc: 0.5480\n",
      "Epoch 3/10\n",
      "110288/110288 [==============================] - 22s 199us/step - loss: 1.6008 - acc: 0.5816 - val_loss: nan - val_acc: 0.5992\n",
      "Epoch 4/10\n",
      "110288/110288 [==============================] - 22s 199us/step - loss: 1.4612 - acc: 0.6046 - val_loss: nan - val_acc: 0.6166\n",
      "Epoch 5/10\n",
      "110288/110288 [==============================] - 22s 199us/step - loss: 1.3847 - acc: 0.6173 - val_loss: nan - val_acc: 0.6081\n",
      "Epoch 6/10\n",
      "110288/110288 [==============================] - 22s 200us/step - loss: 1.3249 - acc: 0.6285 - val_loss: nan - val_acc: 0.6364\n",
      "Epoch 7/10\n",
      "110288/110288 [==============================] - 22s 200us/step - loss: 1.2671 - acc: 0.6406 - val_loss: nan - val_acc: 0.6439\n",
      "Epoch 8/10\n",
      "110288/110288 [==============================] - 22s 200us/step - loss: 1.2522 - acc: 0.6414 - val_loss: nan - val_acc: 0.6448\n",
      "Epoch 9/10\n",
      "110288/110288 [==============================] - 22s 200us/step - loss: 1.2004 - acc: 0.6540 - val_loss: nan - val_acc: 0.6583\n",
      "Epoch 10/10\n",
      "110288/110288 [==============================] - 22s 201us/step - loss: 1.1949 - acc: 0.6523 - val_loss: nan - val_acc: 0.6511\n",
      "new jersey est généralement agréable en janvier et il est il en en <PAD> <PAD> <PAD> <PAD> <PAD> <PAD> <PAD> <PAD>\n"
     ]
    }
   ],
   "source": [
    "def encdec_model(input_shape, output_sequence_length, english_vocab_size, french_vocab_size):\n",
    "    \"\"\"\n",
    "    Build and train an encoder-decoder model on x and y\n",
    "    :param input_shape: Tuple of input shape\n",
    "    :param output_sequence_length: Length of output sequence\n",
    "    :param english_vocab_size: Number of unique English words in the dataset\n",
    "    :param french_vocab_size: Number of unique French words in the dataset\n",
    "    :return: Keras model built, but not trained\n",
    "    \"\"\"\n",
    "    \n",
    "    learning_rate = 0.001\n",
    "    \n",
    "    # initialize a sequential model\n",
    "    model = keras.Sequential()\n",
    "    \n",
    "    ##### ENCODER #####\n",
    "    \n",
    "    # add a simpleRNN layer\n",
    "    model.add( Bidirectional(GRU(units = 128), input_shape = input_shape[1:]))\n",
    "    model.add(RepeatVector(output_sequence_length))\n",
    "    \n",
    "    ##### DECODER #####\n",
    "    \n",
    "    # add a simpleRNN layer\n",
    "    model.add( Bidirectional(GRU(units = 128, return_sequences = True)))\n",
    "    \n",
    "    # use the TimeDistributed class in order to apply the Dense layer\n",
    "    # to the output of each cell\n",
    "    model.add( TimeDistributed(Dense(units = french_vocab_size, activation = 'softmax')))\n",
    "    \n",
    "    model.compile(loss=sparse_categorical_crossentropy,optimizer=Adam(learning_rate),metrics=['accuracy'])\n",
    "    \n",
    "    return model\n",
    "    \n",
    "    \n",
    "tests.test_encdec_model(encdec_model)\n",
    "\n",
    "\n",
    "# Reshaping the input to work with a basic RNN\n",
    "tmp_x = pad(preproc_english_sentences, max_french_sequence_length)\n",
    "tmp_x = tmp_x.reshape((-1, preproc_french_sentences.shape[-2], 1))\n",
    "\n",
    "# Train the neural network\n",
    "en_model = encdec_model( tmp_x.shape, max_french_sequence_length, english_vocab_size, french_vocab_size)\n",
    "\n",
    "en_model.fit(tmp_x, preproc_french_sentences, batch_size=1024, epochs=10, validation_split=0.2)\n",
    "\n",
    "#Print prediction(s)\n",
    "print(logits_to_text(en_model.predict(tmp_x[:1])[0], french_tokenizer))\n",
    "\n",
    "\n",
    "\n",
    "# OPTIONAL: Train and Print prediction(s)"
   ]
  },
  {
   "cell_type": "markdown",
   "metadata": {},
   "source": [
    "### Model 5: Custom (IMPLEMENTATION)\n",
    "Use everything you learned from the previous models to create a model that incorporates embedding and a bidirectional rnn into one model."
   ]
  },
  {
   "cell_type": "code",
   "execution_count": 23,
   "metadata": {},
   "outputs": [
    {
     "name": "stdout",
     "output_type": "stream",
     "text": [
      "Final Model Loaded\n",
      "Train on 110288 samples, validate on 27573 samples\n",
      "Epoch 1/40\n",
      "110288/110288 [==============================] - 26s 231us/step - loss: 3.1480 - acc: 0.4307 - val_loss: nan - val_acc: 0.4873\n",
      "Epoch 2/40\n",
      "110288/110288 [==============================] - 24s 218us/step - loss: 2.1434 - acc: 0.5106 - val_loss: nan - val_acc: 0.5439\n",
      "Epoch 3/40\n",
      "110288/110288 [==============================] - 24s 218us/step - loss: 1.6631 - acc: 0.5710 - val_loss: nan - val_acc: 0.5930\n",
      "Epoch 4/40\n",
      "110288/110288 [==============================] - 24s 218us/step - loss: 1.4411 - acc: 0.6076 - val_loss: nan - val_acc: 0.6186\n",
      "Epoch 5/40\n",
      "110288/110288 [==============================] - 24s 218us/step - loss: 1.3010 - acc: 0.6377 - val_loss: nan - val_acc: 0.6532\n",
      "Epoch 6/40\n",
      "110288/110288 [==============================] - 24s 218us/step - loss: 1.1851 - acc: 0.6658 - val_loss: nan - val_acc: 0.6770\n",
      "Epoch 7/40\n",
      "110288/110288 [==============================] - 24s 218us/step - loss: 1.0887 - acc: 0.6917 - val_loss: nan - val_acc: 0.7056\n",
      "Epoch 8/40\n",
      "110288/110288 [==============================] - 24s 218us/step - loss: 1.0090 - acc: 0.7119 - val_loss: nan - val_acc: 0.7188\n",
      "Epoch 9/40\n",
      "110288/110288 [==============================] - 24s 218us/step - loss: 0.9559 - acc: 0.7219 - val_loss: nan - val_acc: 0.7054\n",
      "Epoch 10/40\n",
      "110288/110288 [==============================] - 24s 218us/step - loss: 0.9221 - acc: 0.7299 - val_loss: nan - val_acc: 0.7375\n",
      "Epoch 11/40\n",
      "110288/110288 [==============================] - 24s 217us/step - loss: 0.8770 - acc: 0.7415 - val_loss: nan - val_acc: 0.7470\n",
      "Epoch 12/40\n",
      "110288/110288 [==============================] - 24s 219us/step - loss: 0.8437 - acc: 0.7502 - val_loss: nan - val_acc: 0.7545\n",
      "Epoch 13/40\n",
      "110288/110288 [==============================] - 24s 218us/step - loss: 0.8144 - acc: 0.7582 - val_loss: nan - val_acc: 0.7638\n",
      "Epoch 14/40\n",
      "110288/110288 [==============================] - 24s 218us/step - loss: 0.7894 - acc: 0.7646 - val_loss: nan - val_acc: 0.7649\n",
      "Epoch 15/40\n",
      "110288/110288 [==============================] - 24s 217us/step - loss: 0.7655 - acc: 0.7705 - val_loss: nan - val_acc: 0.7729\n",
      "Epoch 16/40\n",
      "110288/110288 [==============================] - 24s 218us/step - loss: 0.7421 - acc: 0.7763 - val_loss: nan - val_acc: 0.7765\n",
      "Epoch 17/40\n",
      "110288/110288 [==============================] - 24s 218us/step - loss: 0.7209 - acc: 0.7818 - val_loss: nan - val_acc: 0.7823\n",
      "Epoch 18/40\n",
      "110288/110288 [==============================] - 24s 218us/step - loss: 0.6974 - acc: 0.7881 - val_loss: nan - val_acc: 0.7917\n",
      "Epoch 19/40\n",
      "110288/110288 [==============================] - 24s 218us/step - loss: 0.6787 - acc: 0.7933 - val_loss: nan - val_acc: 0.7983\n",
      "Epoch 20/40\n",
      "110288/110288 [==============================] - 24s 218us/step - loss: 0.6526 - acc: 0.8014 - val_loss: nan - val_acc: 0.8044\n",
      "Epoch 21/40\n",
      "110288/110288 [==============================] - 24s 217us/step - loss: 0.6247 - acc: 0.8100 - val_loss: nan - val_acc: 0.8147\n",
      "Epoch 22/40\n",
      "110288/110288 [==============================] - 24s 218us/step - loss: 0.5979 - acc: 0.8189 - val_loss: nan - val_acc: 0.8237\n",
      "Epoch 23/40\n",
      "110288/110288 [==============================] - 24s 218us/step - loss: 0.5736 - acc: 0.8273 - val_loss: nan - val_acc: 0.8265\n",
      "Epoch 24/40\n",
      "110288/110288 [==============================] - 24s 218us/step - loss: 0.5507 - acc: 0.8347 - val_loss: nan - val_acc: 0.8353\n",
      "Epoch 25/40\n",
      "110288/110288 [==============================] - 24s 218us/step - loss: 0.5367 - acc: 0.8393 - val_loss: nan - val_acc: 0.8455\n",
      "Epoch 26/40\n",
      "110288/110288 [==============================] - 24s 218us/step - loss: 0.5084 - acc: 0.8490 - val_loss: nan - val_acc: 0.8490\n",
      "Epoch 27/40\n",
      "110288/110288 [==============================] - 24s 218us/step - loss: 0.4895 - acc: 0.8557 - val_loss: nan - val_acc: 0.8577\n",
      "Epoch 28/40\n",
      "110288/110288 [==============================] - 24s 218us/step - loss: 0.4701 - acc: 0.8617 - val_loss: nan - val_acc: 0.8661\n",
      "Epoch 29/40\n",
      "110288/110288 [==============================] - 24s 218us/step - loss: 0.4491 - acc: 0.8688 - val_loss: nan - val_acc: 0.8674\n",
      "Epoch 30/40\n",
      "110288/110288 [==============================] - 24s 217us/step - loss: 0.4302 - acc: 0.8746 - val_loss: nan - val_acc: 0.8757\n",
      "Epoch 31/40\n",
      "110288/110288 [==============================] - 24s 218us/step - loss: 0.4116 - acc: 0.8806 - val_loss: nan - val_acc: 0.8808\n",
      "Epoch 32/40\n",
      "110288/110288 [==============================] - 24s 218us/step - loss: 0.3957 - acc: 0.8850 - val_loss: nan - val_acc: 0.8842\n",
      "Epoch 33/40\n",
      "110288/110288 [==============================] - 24s 218us/step - loss: 0.3774 - acc: 0.8905 - val_loss: nan - val_acc: 0.8915\n",
      "Epoch 34/40\n",
      "110288/110288 [==============================] - 24s 218us/step - loss: 0.3611 - acc: 0.8947 - val_loss: nan - val_acc: 0.8968\n",
      "Epoch 35/40\n",
      "110288/110288 [==============================] - 24s 217us/step - loss: 0.3425 - acc: 0.9006 - val_loss: nan - val_acc: 0.8990\n",
      "Epoch 36/40\n",
      "110288/110288 [==============================] - 24s 218us/step - loss: 0.3278 - acc: 0.9049 - val_loss: nan - val_acc: 0.9024\n",
      "Epoch 37/40\n",
      "110288/110288 [==============================] - 24s 218us/step - loss: 0.3274 - acc: 0.9038 - val_loss: nan - val_acc: 0.9057\n",
      "Epoch 38/40\n",
      "110288/110288 [==============================] - 24s 219us/step - loss: 0.3010 - acc: 0.9133 - val_loss: nan - val_acc: 0.9098\n",
      "Epoch 39/40\n",
      "110288/110288 [==============================] - 24s 218us/step - loss: 0.2909 - acc: 0.9160 - val_loss: nan - val_acc: 0.9149\n",
      "Epoch 40/40\n",
      "110288/110288 [==============================] - 24s 218us/step - loss: 0.2757 - acc: 0.9212 - val_loss: nan - val_acc: 0.9199\n",
      "new jersey est parfois calme pendant l'automne et il est généralement chaud en avril <PAD> <PAD> <PAD> <PAD> <PAD> <PAD> <PAD>\n"
     ]
    }
   ],
   "source": [
    "def model_final(input_shape, output_sequence_length, english_vocab_size, french_vocab_size):\n",
    "    \"\"\"\n",
    "    Build and train a model that incorporates embedding, encoder-decoder, and bidirectional RNN on x and y\n",
    "    :param input_shape: Tuple of input shape\n",
    "    :param output_sequence_length: Length of output sequence\n",
    "    :param english_vocab_size: Number of unique English words in the dataset\n",
    "    :param french_vocab_size: Number of unique French words in the dataset\n",
    "    :return: Keras model built, but not trained\n",
    "    \"\"\"\n",
    "    \n",
    "    learning_rate = 0.001\n",
    "    model = keras.Sequential()\n",
    "    \n",
    "    model.add(Embedding(input_dim=english_vocab_size, output_dim=output_sequence_length,  input_shape=input_shape[1:]))\n",
    "    \n",
    "    model.add(Bidirectional(GRU(128,return_sequences=False)))\n",
    "    model.add(RepeatVector(output_sequence_length))\n",
    "    model.add(Bidirectional(GRU(128,return_sequences=True)))\n",
    "    model.add(TimeDistributed(Dense(french_vocab_size, activation='softmax')))\n",
    "    \n",
    "    model.compile(loss=sparse_categorical_crossentropy,optimizer=Adam(learning_rate),metrics=['accuracy'])\n",
    "    \n",
    "    return model\n",
    "\n",
    "\n",
    "tests.test_model_final(model_final)\n",
    "\n",
    "\n",
    "print('Final Model Loaded')\n",
    "\n",
    "# Reshaping the input to work with a basic RNN\n",
    "tmp_x = pad(preproc_english_sentences, max_french_sequence_length)\n",
    "#tmp_x = tmp_x.reshape((-1, preproc_french_sentences.shape[-2], 1))\n",
    "\n",
    "# Train the neural network\n",
    "ff_model = model_final( tmp_x.shape, max_french_sequence_length, english_vocab_size, french_vocab_size)\n",
    "\n",
    "ff_model.fit(tmp_x, preproc_french_sentences, batch_size=1024, epochs=40, validation_split=0.2)\n",
    "\n",
    "#Print prediction(s)\n",
    "print(logits_to_text(ff_model.predict(tmp_x[:1])[0], french_tokenizer))"
   ]
  },
  {
   "cell_type": "markdown",
   "metadata": {},
   "source": [
    "## Prediction (IMPLEMENTATION)"
   ]
  },
  {
   "cell_type": "code",
   "execution_count": 24,
   "metadata": {},
   "outputs": [
    {
     "name": "stdout",
     "output_type": "stream",
     "text": [
      "_________________________________________________________________\n",
      "Layer (type)                 Output Shape              Param #   \n",
      "=================================================================\n",
      "embedding_10 (Embedding)     (None, 21, 21)            4179      \n",
      "_________________________________________________________________\n",
      "bidirectional_18 (Bidirectio (None, 256)               115200    \n",
      "_________________________________________________________________\n",
      "repeat_vector_9 (RepeatVecto (None, 21, 256)           0         \n",
      "_________________________________________________________________\n",
      "bidirectional_19 (Bidirectio (None, 21, 256)           295680    \n",
      "_________________________________________________________________\n",
      "time_distributed_9 (TimeDist (None, 21, 344)           88408     \n",
      "=================================================================\n",
      "Total params: 503,467\n",
      "Trainable params: 503,467\n",
      "Non-trainable params: 0\n",
      "_________________________________________________________________\n",
      "Train on 110288 samples, validate on 27573 samples\n",
      "Epoch 1/40\n",
      "110288/110288 [==============================] - 26s 232us/step - loss: 3.0959 - acc: 0.4362 - val_loss: nan - val_acc: 0.4908\n",
      "Epoch 2/40\n",
      "110288/110288 [==============================] - 24s 218us/step - loss: 2.0790 - acc: 0.5146 - val_loss: nan - val_acc: 0.5513\n",
      "Epoch 3/40\n",
      "110288/110288 [==============================] - 24s 218us/step - loss: 1.6035 - acc: 0.5817 - val_loss: nan - val_acc: 0.6087\n",
      "Epoch 4/40\n",
      "110288/110288 [==============================] - 24s 218us/step - loss: 1.3828 - acc: 0.6266 - val_loss: nan - val_acc: 0.6470\n",
      "Epoch 5/40\n",
      "110288/110288 [==============================] - 24s 218us/step - loss: 1.2345 - acc: 0.6610 - val_loss: nan - val_acc: 0.6708\n",
      "Epoch 6/40\n",
      "110288/110288 [==============================] - 24s 218us/step - loss: 1.1182 - acc: 0.6844 - val_loss: nan - val_acc: 0.6936\n",
      "Epoch 7/40\n",
      "110288/110288 [==============================] - 24s 218us/step - loss: 1.0478 - acc: 0.6994 - val_loss: nan - val_acc: 0.7049\n",
      "Epoch 8/40\n",
      "110288/110288 [==============================] - 24s 218us/step - loss: 0.9963 - acc: 0.7109 - val_loss: nan - val_acc: 0.7143\n",
      "Epoch 9/40\n",
      "110288/110288 [==============================] - 24s 218us/step - loss: 0.9555 - acc: 0.7213 - val_loss: nan - val_acc: 0.7279\n",
      "Epoch 10/40\n",
      "110288/110288 [==============================] - 24s 218us/step - loss: 0.9123 - acc: 0.7318 - val_loss: nan - val_acc: 0.7367\n",
      "Epoch 11/40\n",
      "110288/110288 [==============================] - 24s 218us/step - loss: 0.8625 - acc: 0.7428 - val_loss: nan - val_acc: 0.7479\n",
      "Epoch 12/40\n",
      "110288/110288 [==============================] - 24s 218us/step - loss: 0.8242 - acc: 0.7503 - val_loss: nan - val_acc: 0.7512\n",
      "Epoch 13/40\n",
      "110288/110288 [==============================] - 24s 218us/step - loss: 0.7900 - acc: 0.7585 - val_loss: nan - val_acc: 0.7625\n",
      "Epoch 14/40\n",
      "110288/110288 [==============================] - 24s 218us/step - loss: 0.7601 - acc: 0.7664 - val_loss: nan - val_acc: 0.7690\n",
      "Epoch 15/40\n",
      "110288/110288 [==============================] - 24s 218us/step - loss: 0.7353 - acc: 0.7734 - val_loss: nan - val_acc: 0.7775\n",
      "Epoch 16/40\n",
      "110288/110288 [==============================] - 24s 218us/step - loss: 0.7090 - acc: 0.7805 - val_loss: nan - val_acc: 0.7817\n",
      "Epoch 17/40\n",
      "110288/110288 [==============================] - 24s 218us/step - loss: 0.6861 - acc: 0.7870 - val_loss: nan - val_acc: 0.7889\n",
      "Epoch 18/40\n",
      "110288/110288 [==============================] - 24s 218us/step - loss: 0.6633 - acc: 0.7936 - val_loss: nan - val_acc: 0.7960\n",
      "Epoch 19/40\n",
      "110288/110288 [==============================] - 24s 218us/step - loss: 0.6394 - acc: 0.8009 - val_loss: nan - val_acc: 0.8031\n",
      "Epoch 20/40\n",
      "110288/110288 [==============================] - 24s 218us/step - loss: 0.6122 - acc: 0.8094 - val_loss: nan - val_acc: 0.8135\n",
      "Epoch 21/40\n",
      "110288/110288 [==============================] - 24s 218us/step - loss: 0.5842 - acc: 0.8173 - val_loss: nan - val_acc: 0.8195\n",
      "Epoch 22/40\n",
      "110288/110288 [==============================] - 24s 219us/step - loss: 0.5567 - acc: 0.8248 - val_loss: nan - val_acc: 0.8296\n",
      "Epoch 23/40\n",
      "110288/110288 [==============================] - 24s 218us/step - loss: 0.5291 - acc: 0.8337 - val_loss: nan - val_acc: 0.8362\n",
      "Epoch 24/40\n",
      "110288/110288 [==============================] - 24s 218us/step - loss: 0.5037 - acc: 0.8421 - val_loss: nan - val_acc: 0.8445\n",
      "Epoch 25/40\n",
      "110288/110288 [==============================] - 24s 218us/step - loss: 0.4810 - acc: 0.8501 - val_loss: nan - val_acc: 0.8495\n",
      "Epoch 26/40\n",
      "110288/110288 [==============================] - 24s 218us/step - loss: 0.4594 - acc: 0.8570 - val_loss: nan - val_acc: 0.8608\n",
      "Epoch 27/40\n",
      "110288/110288 [==============================] - 24s 218us/step - loss: 0.4411 - acc: 0.8628 - val_loss: nan - val_acc: 0.8640\n",
      "Epoch 28/40\n",
      "110288/110288 [==============================] - 24s 218us/step - loss: 0.4183 - acc: 0.8701 - val_loss: nan - val_acc: 0.8693\n",
      "Epoch 29/40\n",
      "110288/110288 [==============================] - 24s 218us/step - loss: 0.4015 - acc: 0.8751 - val_loss: nan - val_acc: 0.8763\n",
      "Epoch 30/40\n",
      "110288/110288 [==============================] - 24s 218us/step - loss: 0.3830 - acc: 0.8809 - val_loss: nan - val_acc: 0.8793\n",
      "Epoch 31/40\n",
      "110288/110288 [==============================] - 24s 218us/step - loss: 0.3655 - acc: 0.8869 - val_loss: nan - val_acc: 0.8885\n",
      "Epoch 32/40\n",
      "110288/110288 [==============================] - 24s 218us/step - loss: 0.3514 - acc: 0.8913 - val_loss: nan - val_acc: 0.8934\n",
      "Epoch 33/40\n",
      "110288/110288 [==============================] - 24s 218us/step - loss: 0.3369 - acc: 0.8964 - val_loss: nan - val_acc: 0.8951\n",
      "Epoch 34/40\n",
      "110288/110288 [==============================] - 24s 219us/step - loss: 0.3245 - acc: 0.9006 - val_loss: nan - val_acc: 0.9017\n",
      "Epoch 35/40\n",
      "110288/110288 [==============================] - 24s 218us/step - loss: 0.3163 - acc: 0.9030 - val_loss: nan - val_acc: 0.9007\n",
      "Epoch 36/40\n",
      "110288/110288 [==============================] - 24s 218us/step - loss: 0.3012 - acc: 0.9087 - val_loss: nan - val_acc: 0.9119\n",
      "Epoch 37/40\n",
      "110288/110288 [==============================] - 24s 218us/step - loss: 0.2820 - acc: 0.9163 - val_loss: nan - val_acc: 0.9165\n",
      "Epoch 38/40\n",
      "110288/110288 [==============================] - 24s 218us/step - loss: 0.2707 - acc: 0.9210 - val_loss: nan - val_acc: 0.9218\n",
      "Epoch 39/40\n",
      "110288/110288 [==============================] - 24s 218us/step - loss: 0.2595 - acc: 0.9253 - val_loss: nan - val_acc: 0.9237\n",
      "Epoch 40/40\n",
      "110288/110288 [==============================] - 24s 218us/step - loss: 0.2434 - acc: 0.9306 - val_loss: nan - val_acc: 0.9296\n"
     ]
    },
    {
     "ename": "ValueError",
     "evalue": "Error when checking : expected embedding_10_input to have shape (None, 21) but got array with shape (2, 15)",
     "output_type": "error",
     "traceback": [
      "\u001b[0;31m---------------------------------------------------------------------------\u001b[0m",
      "\u001b[0;31mValueError\u001b[0m                                Traceback (most recent call last)",
      "\u001b[0;32m<ipython-input-24-6d120a58c6e6>\u001b[0m in \u001b[0;36m<module>\u001b[0;34m()\u001b[0m\n\u001b[1;32m     36\u001b[0m \u001b[0;34m\u001b[0m\u001b[0m\n\u001b[1;32m     37\u001b[0m \u001b[0;34m\u001b[0m\u001b[0m\n\u001b[0;32m---> 38\u001b[0;31m \u001b[0mfinal_predictions\u001b[0m\u001b[0;34m(\u001b[0m\u001b[0mpreproc_english_sentences\u001b[0m\u001b[0;34m,\u001b[0m \u001b[0mpreproc_french_sentences\u001b[0m\u001b[0;34m,\u001b[0m \u001b[0menglish_tokenizer\u001b[0m\u001b[0;34m,\u001b[0m \u001b[0mfrench_tokenizer\u001b[0m\u001b[0;34m)\u001b[0m\u001b[0;34m\u001b[0m\u001b[0m\n\u001b[0m",
      "\u001b[0;32m<ipython-input-24-6d120a58c6e6>\u001b[0m in \u001b[0;36mfinal_predictions\u001b[0;34m(x, y, x_tk, y_tk)\u001b[0m\n\u001b[1;32m     26\u001b[0m     \u001b[0msentence\u001b[0m \u001b[0;34m=\u001b[0m \u001b[0mpad_sequences\u001b[0m\u001b[0;34m(\u001b[0m\u001b[0;34m[\u001b[0m\u001b[0msentence\u001b[0m\u001b[0;34m]\u001b[0m\u001b[0;34m,\u001b[0m \u001b[0mmaxlen\u001b[0m\u001b[0;34m=\u001b[0m\u001b[0mx\u001b[0m\u001b[0;34m.\u001b[0m\u001b[0mshape\u001b[0m\u001b[0;34m[\u001b[0m\u001b[0;34m-\u001b[0m\u001b[0;36m1\u001b[0m\u001b[0;34m]\u001b[0m\u001b[0;34m,\u001b[0m \u001b[0mpadding\u001b[0m\u001b[0;34m=\u001b[0m\u001b[0;34m'post'\u001b[0m\u001b[0;34m)\u001b[0m\u001b[0;34m\u001b[0m\u001b[0m\n\u001b[1;32m     27\u001b[0m     \u001b[0msentences\u001b[0m \u001b[0;34m=\u001b[0m \u001b[0mnp\u001b[0m\u001b[0;34m.\u001b[0m\u001b[0marray\u001b[0m\u001b[0;34m(\u001b[0m\u001b[0;34m[\u001b[0m\u001b[0msentence\u001b[0m\u001b[0;34m[\u001b[0m\u001b[0;36m0\u001b[0m\u001b[0;34m]\u001b[0m\u001b[0;34m,\u001b[0m \u001b[0mx\u001b[0m\u001b[0;34m[\u001b[0m\u001b[0;36m0\u001b[0m\u001b[0;34m]\u001b[0m\u001b[0;34m]\u001b[0m\u001b[0;34m)\u001b[0m\u001b[0;34m\u001b[0m\u001b[0m\n\u001b[0;32m---> 28\u001b[0;31m     \u001b[0mpredictions\u001b[0m \u001b[0;34m=\u001b[0m \u001b[0mmodel\u001b[0m\u001b[0;34m.\u001b[0m\u001b[0mpredict\u001b[0m\u001b[0;34m(\u001b[0m\u001b[0msentences\u001b[0m\u001b[0;34m,\u001b[0m \u001b[0mlen\u001b[0m\u001b[0;34m(\u001b[0m\u001b[0msentences\u001b[0m\u001b[0;34m)\u001b[0m\u001b[0;34m)\u001b[0m\u001b[0;34m\u001b[0m\u001b[0m\n\u001b[0m\u001b[1;32m     29\u001b[0m \u001b[0;34m\u001b[0m\u001b[0m\n\u001b[1;32m     30\u001b[0m     \u001b[0mprint\u001b[0m\u001b[0;34m(\u001b[0m\u001b[0;34m'Sample 1:'\u001b[0m\u001b[0;34m)\u001b[0m\u001b[0;34m\u001b[0m\u001b[0m\n",
      "\u001b[0;32m/opt/conda/lib/python3.6/site-packages/keras/models.py\u001b[0m in \u001b[0;36mpredict\u001b[0;34m(self, x, batch_size, verbose)\u001b[0m\n\u001b[1;32m    937\u001b[0m         \u001b[0;32mif\u001b[0m \u001b[0;32mnot\u001b[0m \u001b[0mself\u001b[0m\u001b[0;34m.\u001b[0m\u001b[0mbuilt\u001b[0m\u001b[0;34m:\u001b[0m\u001b[0;34m\u001b[0m\u001b[0m\n\u001b[1;32m    938\u001b[0m             \u001b[0mself\u001b[0m\u001b[0;34m.\u001b[0m\u001b[0mbuild\u001b[0m\u001b[0;34m(\u001b[0m\u001b[0;34m)\u001b[0m\u001b[0;34m\u001b[0m\u001b[0m\n\u001b[0;32m--> 939\u001b[0;31m         \u001b[0;32mreturn\u001b[0m \u001b[0mself\u001b[0m\u001b[0;34m.\u001b[0m\u001b[0mmodel\u001b[0m\u001b[0;34m.\u001b[0m\u001b[0mpredict\u001b[0m\u001b[0;34m(\u001b[0m\u001b[0mx\u001b[0m\u001b[0;34m,\u001b[0m \u001b[0mbatch_size\u001b[0m\u001b[0;34m=\u001b[0m\u001b[0mbatch_size\u001b[0m\u001b[0;34m,\u001b[0m \u001b[0mverbose\u001b[0m\u001b[0;34m=\u001b[0m\u001b[0mverbose\u001b[0m\u001b[0;34m)\u001b[0m\u001b[0;34m\u001b[0m\u001b[0m\n\u001b[0m\u001b[1;32m    940\u001b[0m \u001b[0;34m\u001b[0m\u001b[0m\n\u001b[1;32m    941\u001b[0m     \u001b[0;32mdef\u001b[0m \u001b[0mpredict_on_batch\u001b[0m\u001b[0;34m(\u001b[0m\u001b[0mself\u001b[0m\u001b[0;34m,\u001b[0m \u001b[0mx\u001b[0m\u001b[0;34m)\u001b[0m\u001b[0;34m:\u001b[0m\u001b[0;34m\u001b[0m\u001b[0m\n",
      "\u001b[0;32m/opt/conda/lib/python3.6/site-packages/keras/engine/training.py\u001b[0m in \u001b[0;36mpredict\u001b[0;34m(self, x, batch_size, verbose, steps)\u001b[0m\n\u001b[1;32m   1728\u001b[0m         x = _standardize_input_data(x, self._feed_input_names,\n\u001b[1;32m   1729\u001b[0m                                     \u001b[0mself\u001b[0m\u001b[0;34m.\u001b[0m\u001b[0m_feed_input_shapes\u001b[0m\u001b[0;34m,\u001b[0m\u001b[0;34m\u001b[0m\u001b[0m\n\u001b[0;32m-> 1730\u001b[0;31m                                     check_batch_axis=False)\n\u001b[0m\u001b[1;32m   1731\u001b[0m         \u001b[0;32mif\u001b[0m \u001b[0mself\u001b[0m\u001b[0;34m.\u001b[0m\u001b[0mstateful\u001b[0m\u001b[0;34m:\u001b[0m\u001b[0;34m\u001b[0m\u001b[0m\n\u001b[1;32m   1732\u001b[0m             \u001b[0;32mif\u001b[0m \u001b[0mx\u001b[0m\u001b[0;34m[\u001b[0m\u001b[0;36m0\u001b[0m\u001b[0;34m]\u001b[0m\u001b[0;34m.\u001b[0m\u001b[0mshape\u001b[0m\u001b[0;34m[\u001b[0m\u001b[0;36m0\u001b[0m\u001b[0;34m]\u001b[0m \u001b[0;34m>\u001b[0m \u001b[0mbatch_size\u001b[0m \u001b[0;32mand\u001b[0m \u001b[0mx\u001b[0m\u001b[0;34m[\u001b[0m\u001b[0;36m0\u001b[0m\u001b[0;34m]\u001b[0m\u001b[0;34m.\u001b[0m\u001b[0mshape\u001b[0m\u001b[0;34m[\u001b[0m\u001b[0;36m0\u001b[0m\u001b[0;34m]\u001b[0m \u001b[0;34m%\u001b[0m \u001b[0mbatch_size\u001b[0m \u001b[0;34m!=\u001b[0m \u001b[0;36m0\u001b[0m\u001b[0;34m:\u001b[0m\u001b[0;34m\u001b[0m\u001b[0m\n",
      "\u001b[0;32m/opt/conda/lib/python3.6/site-packages/keras/engine/training.py\u001b[0m in \u001b[0;36m_standardize_input_data\u001b[0;34m(data, names, shapes, check_batch_axis, exception_prefix)\u001b[0m\n\u001b[1;32m    152\u001b[0m                             \u001b[0;34m' to have shape '\u001b[0m \u001b[0;34m+\u001b[0m \u001b[0mstr\u001b[0m\u001b[0;34m(\u001b[0m\u001b[0mshapes\u001b[0m\u001b[0;34m[\u001b[0m\u001b[0mi\u001b[0m\u001b[0;34m]\u001b[0m\u001b[0;34m)\u001b[0m \u001b[0;34m+\u001b[0m\u001b[0;34m\u001b[0m\u001b[0m\n\u001b[1;32m    153\u001b[0m                             \u001b[0;34m' but got array with shape '\u001b[0m \u001b[0;34m+\u001b[0m\u001b[0;34m\u001b[0m\u001b[0m\n\u001b[0;32m--> 154\u001b[0;31m                             str(array.shape))\n\u001b[0m\u001b[1;32m    155\u001b[0m     \u001b[0;32mreturn\u001b[0m \u001b[0marrays\u001b[0m\u001b[0;34m\u001b[0m\u001b[0m\n\u001b[1;32m    156\u001b[0m \u001b[0;34m\u001b[0m\u001b[0m\n",
      "\u001b[0;31mValueError\u001b[0m: Error when checking : expected embedding_10_input to have shape (None, 21) but got array with shape (2, 15)"
     ]
    }
   ],
   "source": [
    "def final_predictions(x, y, x_tk, y_tk):\n",
    "    \"\"\"\n",
    "    Gets predictions using the final model\n",
    "    :param x: Preprocessed English data\n",
    "    :param y: Preprocessed French data\n",
    "    :param x_tk: English tokenizer\n",
    "    :param y_tk: French tokenizer\n",
    "    \"\"\"\n",
    "    # TODO: Train neural network using model_final\n",
    "    \n",
    "    tmp_x = pad(x, max_french_sequence_length)\n",
    "    \n",
    "    model = model_final(tmp_x.shape, y.shape[1], len(x_tk.word_index), len(y_tk.word_index))\n",
    "    model.summary()\n",
    "    \n",
    "    #model.fit(x, y, batch_size=1024, epochs=10, validation_split=0.2)\n",
    "    model.fit(tmp_x, y, batch_size=1024, epochs=40, validation_split=0.2)\n",
    "\n",
    "    \n",
    "    ## DON'T EDIT ANYTHING BELOW THIS LINE\n",
    "    y_id_to_word = {value: key for key, value in y_tk.word_index.items()}\n",
    "    y_id_to_word[0] = '<PAD>'\n",
    "\n",
    "    sentence = 'he saw a old yellow truck'\n",
    "    sentence = [x_tk.word_index[word] for word in sentence.split()]\n",
    "    sentence = pad_sequences([sentence], maxlen=x.shape[-1], padding='post')\n",
    "    sentences = np.array([sentence[0], x[0]])\n",
    "    predictions = model.predict(sentences, len(sentences))\n",
    "\n",
    "    print('Sample 1:')\n",
    "    print(' '.join([y_id_to_word[np.argmax(x)] for x in predictions[0]]))\n",
    "    print('Il a vu un vieux camion jaune')\n",
    "    print('Sample 2:')\n",
    "    print(' '.join([y_id_to_word[np.argmax(x)] for x in predictions[1]]))\n",
    "    print(' '.join([y_id_to_word[np.max(x)] for x in y[0]]))\n",
    "\n",
    "\n",
    "final_predictions(preproc_english_sentences, preproc_french_sentences, english_tokenizer, french_tokenizer)"
   ]
  },
  {
   "cell_type": "markdown",
   "metadata": {},
   "source": [
    "## Submission\n",
    "When you're ready to submit, complete the following steps:\n",
    "1. Review the [rubric](https://review.udacity.com/#!/rubrics/1004/view) to ensure your submission meets all requirements to pass\n",
    "2. Generate an HTML version of this notebook\n",
    "\n",
    "  - Run the next cell to attempt automatic generation (this is the recommended method in Workspaces)\n",
    "  - Navigate to **FILE -> Download as -> HTML (.html)**\n",
    "  - Manually generate a copy using `nbconvert` from your shell terminal\n",
    "```\n",
    "$ pip install nbconvert\n",
    "$ python -m nbconvert machine_translation.ipynb\n",
    "```\n",
    "  \n",
    "3. Submit the project\n",
    "\n",
    "  - If you are in a Workspace, simply click the \"Submit Project\" button (bottom towards the right)\n",
    "  \n",
    "  - Otherwise, add the following files into a zip archive and submit them \n",
    "  - `helper.py`\n",
    "  - `machine_translation.ipynb`\n",
    "  - `machine_translation.html`\n",
    "    - You can export the notebook by navigating to **File -> Download as -> HTML (.html)**."
   ]
  },
  {
   "cell_type": "markdown",
   "metadata": {},
   "source": [
    "### Generate the html\n",
    "\n",
    "**Save your notebook before running the next cell to generate the HTML output.** Then submit your project."
   ]
  },
  {
   "cell_type": "code",
   "execution_count": 25,
   "metadata": {},
   "outputs": [
    {
     "data": {
      "text/plain": [
       "['[NbConvertApp] Converting notebook Character-Level RNN.ipynb to html',\n",
       " '[NbConvertApp] Writing 313483 bytes to Character-Level RNN.html',\n",
       " '[NbConvertApp] Converting notebook machine_translation.ipynb to html',\n",
       " '[NbConvertApp] Writing 390138 bytes to machine_translation.html',\n",
       " '[NbConvertApp] Converting notebook sentiment_analysis.ipynb to html',\n",
       " '[NbConvertApp] Writing 515614 bytes to sentiment_analysis.html',\n",
       " '[NbConvertApp] Converting notebook text_processing.ipynb to html',\n",
       " '[NbConvertApp] Writing 385267 bytes to text_processing.html',\n",
       " '[NbConvertApp] Converting notebook Topic_Modeling_Latent_dirichlet_allocation.ipynb to html',\n",
       " '[NbConvertApp] Writing 395304 bytes to Topic_Modeling_Latent_dirichlet_allocation.html']"
      ]
     },
     "execution_count": 25,
     "metadata": {},
     "output_type": "execute_result"
    }
   ],
   "source": [
    "# Save before you run this cell!\n",
    "!!jupyter nbconvert *.ipynb"
   ]
  },
  {
   "cell_type": "markdown",
   "metadata": {},
   "source": [
    "## Optional Enhancements\n",
    "\n",
    "This project focuses on learning various network architectures for machine translation, but we don't evaluate the models according to best practices by splitting the data into separate test & training sets -- so the model accuracy is overstated. Use the [`sklearn.model_selection.train_test_split()`](http://scikit-learn.org/stable/modules/generated/sklearn.model_selection.train_test_split.html) function to create separate training & test datasets, then retrain each of the models using only the training set and evaluate the prediction accuracy using the hold out test set. Does the \"best\" model change?"
   ]
  }
 ],
 "metadata": {
  "kernelspec": {
   "display_name": "Python 3",
   "language": "python",
   "name": "python3"
  },
  "language_info": {
   "codemirror_mode": {
    "name": "ipython",
    "version": 3
   },
   "file_extension": ".py",
   "mimetype": "text/x-python",
   "name": "python",
   "nbconvert_exporter": "python",
   "pygments_lexer": "ipython3",
   "version": "3.6.3"
  }
 },
 "nbformat": 4,
 "nbformat_minor": 1
}
